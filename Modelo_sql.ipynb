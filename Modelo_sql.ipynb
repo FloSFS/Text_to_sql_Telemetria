{
  "cells": [
    {
      "cell_type": "markdown",
      "source": [
        "#Introdução"
      ],
      "metadata": {
        "id": "ZXiOTg1XcnjV"
      }
    },
    {
      "cell_type": "markdown",
      "metadata": {
        "id": "3NkZJUuy9GYT"
      },
      "source": [
        "## Importando bibliotecas e carregando o arquivo"
      ]
    },
    {
      "cell_type": "code",
      "execution_count": 1,
      "metadata": {
        "collapsed": true,
        "id": "J295ChD4f7Ix",
        "colab": {
          "base_uri": "https://localhost:8080/"
        },
        "outputId": "83103e5e-bf71-4a45-cb65-3d1dd0b1750a"
      },
      "outputs": [
        {
          "output_type": "stream",
          "name": "stdout",
          "text": [
            "\u001b[2K   \u001b[90m━━━━━━━━━━━━━━━━━━━━━━━━━━━━━━━━━━━━━━━━\u001b[0m \u001b[32m2.4/2.4 MB\u001b[0m \u001b[31m13.4 MB/s\u001b[0m eta \u001b[36m0:00:00\u001b[0m\n",
            "\u001b[2K   \u001b[90m━━━━━━━━━━━━━━━━━━━━━━━━━━━━━━━━━━━━━━━━\u001b[0m \u001b[32m209.0/209.0 kB\u001b[0m \u001b[31m9.9 MB/s\u001b[0m eta \u001b[36m0:00:00\u001b[0m\n",
            "\u001b[2K   \u001b[90m━━━━━━━━━━━━━━━━━━━━━━━━━━━━━━━━━━━━━━━━\u001b[0m \u001b[32m50.4/50.4 kB\u001b[0m \u001b[31m1.3 MB/s\u001b[0m eta \u001b[36m0:00:00\u001b[0m\n",
            "\u001b[2K   \u001b[90m━━━━━━━━━━━━━━━━━━━━━━━━━━━━━━━━━━━━━━━━\u001b[0m \u001b[32m3.1/3.1 MB\u001b[0m \u001b[31m15.1 MB/s\u001b[0m eta \u001b[36m0:00:00\u001b[0m\n",
            "\u001b[2K   \u001b[90m━━━━━━━━━━━━━━━━━━━━━━━━━━━━━━━━━━━━━━━━\u001b[0m \u001b[32m1.2/1.2 MB\u001b[0m \u001b[31m17.7 MB/s\u001b[0m eta \u001b[36m0:00:00\u001b[0m\n",
            "\u001b[2K   \u001b[90m━━━━━━━━━━━━━━━━━━━━━━━━━━━━━━━━━━━━━━━━\u001b[0m \u001b[32m49.5/49.5 kB\u001b[0m \u001b[31m1.7 MB/s\u001b[0m eta \u001b[36m0:00:00\u001b[0m\n",
            "\u001b[2K   \u001b[90m━━━━━━━━━━━━━━━━━━━━━━━━━━━━━━━━━━━━━━━━\u001b[0m \u001b[32m41.8/41.8 kB\u001b[0m \u001b[31m1.7 MB/s\u001b[0m eta \u001b[36m0:00:00\u001b[0m\n",
            "\u001b[2K   \u001b[90m━━━━━━━━━━━━━━━━━━━━━━━━━━━━━━━━━━━━━━━━\u001b[0m \u001b[32m41.8/41.8 kB\u001b[0m \u001b[31m1.7 MB/s\u001b[0m eta \u001b[36m0:00:00\u001b[0m\n",
            "\u001b[?25hCollecting faiss-gpu\n",
            "  Downloading faiss_gpu-1.7.2-cp310-cp310-manylinux_2_17_x86_64.manylinux2014_x86_64.whl.metadata (1.4 kB)\n",
            "Downloading faiss_gpu-1.7.2-cp310-cp310-manylinux_2_17_x86_64.manylinux2014_x86_64.whl (85.5 MB)\n",
            "\u001b[2K   \u001b[90m━━━━━━━━━━━━━━━━━━━━━━━━━━━━━━━━━━━━━━━━\u001b[0m \u001b[32m85.5/85.5 MB\u001b[0m \u001b[31m6.8 MB/s\u001b[0m eta \u001b[36m0:00:00\u001b[0m\n",
            "\u001b[?25hInstalling collected packages: faiss-gpu\n",
            "Successfully installed faiss-gpu-1.7.2\n",
            "Collecting gradio\n",
            "  Downloading gradio-5.6.0-py3-none-any.whl.metadata (16 kB)\n",
            "Collecting aiofiles<24.0,>=22.0 (from gradio)\n",
            "  Downloading aiofiles-23.2.1-py3-none-any.whl.metadata (9.7 kB)\n",
            "Requirement already satisfied: anyio<5.0,>=3.0 in /usr/local/lib/python3.10/dist-packages (from gradio) (3.7.1)\n",
            "Collecting fastapi<1.0,>=0.115.2 (from gradio)\n",
            "  Downloading fastapi-0.115.5-py3-none-any.whl.metadata (27 kB)\n",
            "Collecting ffmpy (from gradio)\n",
            "  Downloading ffmpy-0.4.0-py3-none-any.whl.metadata (2.9 kB)\n",
            "Collecting gradio-client==1.4.3 (from gradio)\n",
            "  Downloading gradio_client-1.4.3-py3-none-any.whl.metadata (7.1 kB)\n",
            "Requirement already satisfied: httpx>=0.24.1 in /usr/local/lib/python3.10/dist-packages (from gradio) (0.27.2)\n",
            "Requirement already satisfied: huggingface-hub>=0.25.1 in /usr/local/lib/python3.10/dist-packages (from gradio) (0.26.2)\n",
            "Requirement already satisfied: jinja2<4.0 in /usr/local/lib/python3.10/dist-packages (from gradio) (3.1.4)\n",
            "Collecting markupsafe~=2.0 (from gradio)\n",
            "  Downloading MarkupSafe-2.1.5-cp310-cp310-manylinux_2_17_x86_64.manylinux2014_x86_64.whl.metadata (3.0 kB)\n",
            "Requirement already satisfied: numpy<3.0,>=1.0 in /usr/local/lib/python3.10/dist-packages (from gradio) (1.26.4)\n",
            "Requirement already satisfied: orjson~=3.0 in /usr/local/lib/python3.10/dist-packages (from gradio) (3.10.11)\n",
            "Requirement already satisfied: packaging in /usr/local/lib/python3.10/dist-packages (from gradio) (24.2)\n",
            "Requirement already satisfied: pandas<3.0,>=1.0 in /usr/local/lib/python3.10/dist-packages (from gradio) (2.2.2)\n",
            "Requirement already satisfied: pillow<12.0,>=8.0 in /usr/local/lib/python3.10/dist-packages (from gradio) (11.0.0)\n",
            "Requirement already satisfied: pydantic>=2.0 in /usr/local/lib/python3.10/dist-packages (from gradio) (2.9.2)\n",
            "Collecting pydub (from gradio)\n",
            "  Downloading pydub-0.25.1-py2.py3-none-any.whl.metadata (1.4 kB)\n",
            "Collecting python-multipart==0.0.12 (from gradio)\n",
            "  Downloading python_multipart-0.0.12-py3-none-any.whl.metadata (1.9 kB)\n",
            "Requirement already satisfied: pyyaml<7.0,>=5.0 in /usr/local/lib/python3.10/dist-packages (from gradio) (6.0.2)\n",
            "Collecting ruff>=0.2.2 (from gradio)\n",
            "  Downloading ruff-0.7.4-py3-none-manylinux_2_17_x86_64.manylinux2014_x86_64.whl.metadata (25 kB)\n",
            "Collecting safehttpx<1.0,>=0.1.1 (from gradio)\n",
            "  Downloading safehttpx-0.1.1-py3-none-any.whl.metadata (4.1 kB)\n",
            "Collecting semantic-version~=2.0 (from gradio)\n",
            "  Downloading semantic_version-2.10.0-py2.py3-none-any.whl.metadata (9.7 kB)\n",
            "Collecting starlette<1.0,>=0.40.0 (from gradio)\n",
            "  Downloading starlette-0.41.2-py3-none-any.whl.metadata (6.0 kB)\n",
            "Collecting tomlkit==0.12.0 (from gradio)\n",
            "  Downloading tomlkit-0.12.0-py3-none-any.whl.metadata (2.7 kB)\n",
            "Requirement already satisfied: typer<1.0,>=0.12 in /usr/local/lib/python3.10/dist-packages (from gradio) (0.13.0)\n",
            "Requirement already satisfied: typing-extensions~=4.0 in /usr/local/lib/python3.10/dist-packages (from gradio) (4.12.2)\n",
            "Collecting uvicorn>=0.14.0 (from gradio)\n",
            "  Downloading uvicorn-0.32.0-py3-none-any.whl.metadata (6.6 kB)\n",
            "Requirement already satisfied: fsspec in /usr/local/lib/python3.10/dist-packages (from gradio-client==1.4.3->gradio) (2024.10.0)\n",
            "Collecting websockets<13.0,>=10.0 (from gradio-client==1.4.3->gradio)\n",
            "  Downloading websockets-12.0-cp310-cp310-manylinux_2_5_x86_64.manylinux1_x86_64.manylinux_2_17_x86_64.manylinux2014_x86_64.whl.metadata (6.6 kB)\n",
            "Requirement already satisfied: idna>=2.8 in /usr/local/lib/python3.10/dist-packages (from anyio<5.0,>=3.0->gradio) (3.10)\n",
            "Requirement already satisfied: sniffio>=1.1 in /usr/local/lib/python3.10/dist-packages (from anyio<5.0,>=3.0->gradio) (1.3.1)\n",
            "Requirement already satisfied: exceptiongroup in /usr/local/lib/python3.10/dist-packages (from anyio<5.0,>=3.0->gradio) (1.2.2)\n",
            "Requirement already satisfied: certifi in /usr/local/lib/python3.10/dist-packages (from httpx>=0.24.1->gradio) (2024.8.30)\n",
            "Requirement already satisfied: httpcore==1.* in /usr/local/lib/python3.10/dist-packages (from httpx>=0.24.1->gradio) (1.0.6)\n",
            "Requirement already satisfied: h11<0.15,>=0.13 in /usr/local/lib/python3.10/dist-packages (from httpcore==1.*->httpx>=0.24.1->gradio) (0.14.0)\n",
            "Requirement already satisfied: filelock in /usr/local/lib/python3.10/dist-packages (from huggingface-hub>=0.25.1->gradio) (3.16.1)\n",
            "Requirement already satisfied: requests in /usr/local/lib/python3.10/dist-packages (from huggingface-hub>=0.25.1->gradio) (2.32.3)\n",
            "Requirement already satisfied: tqdm>=4.42.1 in /usr/local/lib/python3.10/dist-packages (from huggingface-hub>=0.25.1->gradio) (4.66.6)\n",
            "Requirement already satisfied: python-dateutil>=2.8.2 in /usr/local/lib/python3.10/dist-packages (from pandas<3.0,>=1.0->gradio) (2.8.2)\n",
            "Requirement already satisfied: pytz>=2020.1 in /usr/local/lib/python3.10/dist-packages (from pandas<3.0,>=1.0->gradio) (2024.2)\n",
            "Requirement already satisfied: tzdata>=2022.7 in /usr/local/lib/python3.10/dist-packages (from pandas<3.0,>=1.0->gradio) (2024.2)\n",
            "Requirement already satisfied: annotated-types>=0.6.0 in /usr/local/lib/python3.10/dist-packages (from pydantic>=2.0->gradio) (0.7.0)\n",
            "Requirement already satisfied: pydantic-core==2.23.4 in /usr/local/lib/python3.10/dist-packages (from pydantic>=2.0->gradio) (2.23.4)\n",
            "Requirement already satisfied: click>=8.0.0 in /usr/local/lib/python3.10/dist-packages (from typer<1.0,>=0.12->gradio) (8.1.7)\n",
            "Requirement already satisfied: shellingham>=1.3.0 in /usr/local/lib/python3.10/dist-packages (from typer<1.0,>=0.12->gradio) (1.5.4)\n",
            "Requirement already satisfied: rich>=10.11.0 in /usr/local/lib/python3.10/dist-packages (from typer<1.0,>=0.12->gradio) (13.9.4)\n",
            "Requirement already satisfied: six>=1.5 in /usr/local/lib/python3.10/dist-packages (from python-dateutil>=2.8.2->pandas<3.0,>=1.0->gradio) (1.16.0)\n",
            "Requirement already satisfied: markdown-it-py>=2.2.0 in /usr/local/lib/python3.10/dist-packages (from rich>=10.11.0->typer<1.0,>=0.12->gradio) (3.0.0)\n",
            "Requirement already satisfied: pygments<3.0.0,>=2.13.0 in /usr/local/lib/python3.10/dist-packages (from rich>=10.11.0->typer<1.0,>=0.12->gradio) (2.18.0)\n",
            "Requirement already satisfied: charset-normalizer<4,>=2 in /usr/local/lib/python3.10/dist-packages (from requests->huggingface-hub>=0.25.1->gradio) (3.4.0)\n",
            "Requirement already satisfied: urllib3<3,>=1.21.1 in /usr/local/lib/python3.10/dist-packages (from requests->huggingface-hub>=0.25.1->gradio) (2.2.3)\n",
            "Requirement already satisfied: mdurl~=0.1 in /usr/local/lib/python3.10/dist-packages (from markdown-it-py>=2.2.0->rich>=10.11.0->typer<1.0,>=0.12->gradio) (0.1.2)\n",
            "Downloading gradio-5.6.0-py3-none-any.whl (57.1 MB)\n",
            "\u001b[2K   \u001b[90m━━━━━━━━━━━━━━━━━━━━━━━━━━━━━━━━━━━━━━━━\u001b[0m \u001b[32m57.1/57.1 MB\u001b[0m \u001b[31m8.8 MB/s\u001b[0m eta \u001b[36m0:00:00\u001b[0m\n",
            "\u001b[?25hDownloading gradio_client-1.4.3-py3-none-any.whl (320 kB)\n",
            "\u001b[2K   \u001b[90m━━━━━━━━━━━━━━━━━━━━━━━━━━━━━━━━━━━━━━━━\u001b[0m \u001b[32m320.1/320.1 kB\u001b[0m \u001b[31m6.4 MB/s\u001b[0m eta \u001b[36m0:00:00\u001b[0m\n",
            "\u001b[?25hDownloading python_multipart-0.0.12-py3-none-any.whl (23 kB)\n",
            "Downloading tomlkit-0.12.0-py3-none-any.whl (37 kB)\n",
            "Downloading aiofiles-23.2.1-py3-none-any.whl (15 kB)\n",
            "Downloading fastapi-0.115.5-py3-none-any.whl (94 kB)\n",
            "\u001b[2K   \u001b[90m━━━━━━━━━━━━━━━━━━━━━━━━━━━━━━━━━━━━━━━━\u001b[0m \u001b[32m94.9/94.9 kB\u001b[0m \u001b[31m6.7 MB/s\u001b[0m eta \u001b[36m0:00:00\u001b[0m\n",
            "\u001b[?25hDownloading MarkupSafe-2.1.5-cp310-cp310-manylinux_2_17_x86_64.manylinux2014_x86_64.whl (25 kB)\n",
            "Downloading ruff-0.7.4-py3-none-manylinux_2_17_x86_64.manylinux2014_x86_64.whl (11.1 MB)\n",
            "\u001b[2K   \u001b[90m━━━━━━━━━━━━━━━━━━━━━━━━━━━━━━━━━━━━━━━━\u001b[0m \u001b[32m11.1/11.1 MB\u001b[0m \u001b[31m50.8 MB/s\u001b[0m eta \u001b[36m0:00:00\u001b[0m\n",
            "\u001b[?25hDownloading safehttpx-0.1.1-py3-none-any.whl (8.4 kB)\n",
            "Downloading semantic_version-2.10.0-py2.py3-none-any.whl (15 kB)\n",
            "Downloading starlette-0.41.2-py3-none-any.whl (73 kB)\n",
            "\u001b[2K   \u001b[90m━━━━━━━━━━━━━━━━━━━━━━━━━━━━━━━━━━━━━━━━\u001b[0m \u001b[32m73.3/73.3 kB\u001b[0m \u001b[31m5.4 MB/s\u001b[0m eta \u001b[36m0:00:00\u001b[0m\n",
            "\u001b[?25hDownloading uvicorn-0.32.0-py3-none-any.whl (63 kB)\n",
            "\u001b[2K   \u001b[90m━━━━━━━━━━━━━━━━━━━━━━━━━━━━━━━━━━━━━━━━\u001b[0m \u001b[32m63.7/63.7 kB\u001b[0m \u001b[31m4.3 MB/s\u001b[0m eta \u001b[36m0:00:00\u001b[0m\n",
            "\u001b[?25hDownloading ffmpy-0.4.0-py3-none-any.whl (5.8 kB)\n",
            "Downloading pydub-0.25.1-py2.py3-none-any.whl (32 kB)\n",
            "Downloading websockets-12.0-cp310-cp310-manylinux_2_5_x86_64.manylinux1_x86_64.manylinux_2_17_x86_64.manylinux2014_x86_64.whl (130 kB)\n",
            "\u001b[2K   \u001b[90m━━━━━━━━━━━━━━━━━━━━━━━━━━━━━━━━━━━━━━━━\u001b[0m \u001b[32m130.2/130.2 kB\u001b[0m \u001b[31m6.7 MB/s\u001b[0m eta \u001b[36m0:00:00\u001b[0m\n",
            "\u001b[?25hInstalling collected packages: pydub, websockets, uvicorn, tomlkit, semantic-version, ruff, python-multipart, markupsafe, ffmpy, aiofiles, starlette, safehttpx, gradio-client, fastapi, gradio\n",
            "  Attempting uninstall: markupsafe\n",
            "    Found existing installation: MarkupSafe 3.0.2\n",
            "    Uninstalling MarkupSafe-3.0.2:\n",
            "      Successfully uninstalled MarkupSafe-3.0.2\n",
            "Successfully installed aiofiles-23.2.1 fastapi-0.115.5 ffmpy-0.4.0 gradio-5.6.0 gradio-client-1.4.3 markupsafe-2.1.5 pydub-0.25.1 python-multipart-0.0.12 ruff-0.7.4 safehttpx-0.1.1 semantic-version-2.10.0 starlette-0.41.2 tomlkit-0.12.0 uvicorn-0.32.0 websockets-12.0\n"
          ]
        }
      ],
      "source": [
        "%pip install --upgrade --quiet  langchain langchain-community langchain-experimental langchain-openai #biblioteca langchain\n",
        "!pip install --quiet langchain langchain-google-genai grandalf #bib googleGenAI\n",
        "!pip install faiss-gpu #Facebook AI Similarity Search (pesquisa de similaridade e agrupamento de vetores, é o vectorstore)\n",
        "!pip install gradio #Interface para perguntas"
      ]
    },
    {
      "cell_type": "code",
      "execution_count": 2,
      "metadata": {
        "id": "zjfxsyNUWGAS"
      },
      "outputs": [],
      "source": [
        "import pandas as pd\n",
        "import numpy as np\n",
        "import matplotlib.pyplot as plt\n",
        "import seaborn as sns\n",
        "import sqlite3\n",
        "import sqlalchemy\n",
        "import os\n",
        "from IPython.display import display\n",
        "from IPython.display import Markdown\n",
        "import textwrap"
      ]
    },
    {
      "cell_type": "code",
      "execution_count": 3,
      "metadata": {
        "colab": {
          "base_uri": "https://localhost:8080/"
        },
        "id": "MM7-F68hVm8U",
        "outputId": "2e5ca33d-fc22-40a5-aa5c-f1cfa4a31cd7"
      },
      "outputs": [
        {
          "output_type": "stream",
          "name": "stdout",
          "text": [
            "Mounted at /content/drive\n"
          ]
        }
      ],
      "source": [
        "from google.colab import drive\n",
        "drive.mount('/content/drive')"
      ]
    },
    {
      "cell_type": "markdown",
      "source": [
        "Carregue sua chave de acesso do google API na chave do menu a esquerda:\n",
        "![Captura de tela 2024-11-17 183425.png](data:image/png;base64,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)\n"
      ],
      "metadata": {
        "id": "xRP9tpOnCtPw"
      }
    },
    {
      "cell_type": "code",
      "execution_count": 5,
      "metadata": {
        "id": "h3IhPP-Ie3rD"
      },
      "outputs": [],
      "source": [
        "from google.colab import userdata\n",
        "import getpass\n",
        "\n",
        "os.environ[\"GOOGLE_API_KEY\"] =  userdata.get(\"GOOGLE_API_KEY\")\n",
        "#os.environ[\"GOOGLE_API_KEY\"] =  getpass.getpass('Gemini API Key:')\n"
      ]
    },
    {
      "cell_type": "markdown",
      "source": [
        "# Modelo\n"
      ],
      "metadata": {
        "id": "I7BI7WxQ7Act"
      }
    },
    {
      "cell_type": "markdown",
      "metadata": {
        "id": "LP7kXRKiIYji"
      },
      "source": [
        "## Conectando base de dados SQLite\n"
      ]
    },
    {
      "cell_type": "code",
      "execution_count": 7,
      "metadata": {
        "id": "c0U4Tn66iSCA",
        "colab": {
          "base_uri": "https://localhost:8080/",
          "height": 88
        },
        "outputId": "024c804d-e7dd-47da-8469-bcae4bd541e2"
      },
      "outputs": [
        {
          "output_type": "stream",
          "name": "stdout",
          "text": [
            "sqlite\n",
            "['Chassis', 'Glossário Telemetria', 'Telemetria']\n"
          ]
        },
        {
          "output_type": "execute_result",
          "data": {
            "text/plain": [
              "'[(20382, 2, 3, 20), (20450, 125, 20, 20), (20655, 91, 8, 20), (20658, 54, 21, 20), (20660, 91, 8, 20), (20708, 54, 21, 20), (20713, 54, 21, 20), (20714, 54, 21, 20), (20716, 54, 21, 20), (20717, 54, 21, 20)]'"
            ],
            "application/vnd.google.colaboratory.intrinsic+json": {
              "type": "string"
            }
          },
          "metadata": {},
          "execution_count": 7
        }
      ],
      "source": [
        "from langchain_community.utilities import SQLDatabase\n",
        "\n",
        "db_path = '/content/drive/MyDrive/Bootcamp/Projeto Final/Cópia de Bases_Projeto_Final.sqlite'  # Atualize com o caminho correto\n",
        "#db_path = '/content/Bases_Projeto_Final.sqlite'\n",
        "#db_path = '/content/drive/MyDrive/dados/bases_projeto_final_sqlite/Bases_Projeto_Final.xlsx.sqlite' #Gustavo\n",
        "#db_path='/content/drive/MyDrive/PS\\'s/Visagio/BootCamp GenAi/04. Trabalho Final/00. Dados/Bases_Projeto_Final.sqlite'\n",
        "db = SQLDatabase.from_uri(f'sqlite:///{db_path}', sample_rows_in_table_info=3)\n",
        "print(db.dialect)\n",
        "print(db.get_usable_table_names())\n",
        "db.run(\"SELECT * FROM Chassis LIMIT 10;\")"
      ]
    },
    {
      "cell_type": "markdown",
      "source": [
        "\n",
        "\n",
        "## Corrigindo o banco de dados"
      ],
      "metadata": {
        "id": "EUlo8PPjcyFM"
      }
    },
    {
      "cell_type": "code",
      "execution_count": 8,
      "metadata": {
        "colab": {
          "base_uri": "https://localhost:8080/",
          "height": 0
        },
        "id": "ms2N7Bh_1vYc",
        "outputId": "57476767-13a2-41f7-83a5-203f58b753fb"
      },
      "outputs": [
        {
          "output_type": "execute_result",
          "data": {
            "text/plain": [
              "''"
            ],
            "application/vnd.google.colaboratory.intrinsic+json": {
              "type": "string"
            }
          },
          "metadata": {},
          "execution_count": 8
        }
      ],
      "source": [
        "db.run('''DROP TABLE \"Glossário Telemetria\";''')\n",
        "\n",
        "db.run('''CREATE TABLE \"Glossário Telemetria\" (\n",
        "    Categoria VARCHAR(50),\n",
        "    Descricao_Categoria VARCHAR(100),\n",
        "    Serie VARCHAR(20),\n",
        "    Descricao_Serie VARCHAR(100)\n",
        ");''')\n",
        "\n",
        "db.run('''INSERT INTO \"Glossário Telemetria\" (Categoria, Descricao_Categoria, Serie, Descricao_Serie)\n",
        "VALUES\n",
        "    ('Uso do Motor', 'Tempo em cada status de motor', 'Chave-Ligada', 'Motor desligado'),\n",
        "    ('Uso do Motor', 'Tempo em cada status de motor', 'Marcha Lenta', 'Motor ligado mas improdutivo'),\n",
        "    ('Uso do Motor', 'Tempo em cada status de motor', 'Carga Baixa', 'Motor ligado com baixo uso'),\n",
        "    ('Uso do Motor', 'Tempo em cada status de motor', 'Carga Média', 'Motor ligado com uso regular'),\n",
        "    ('Uso do Motor', 'Tempo em cada status de motor', 'Carga Alta', 'Motor ligado com uso intenso'),\n",
        "    ('Uso do Combustível do Motor', 'Consumo em cada status do motor', 'Chave-Ligada', 'Motor desligado'),\n",
        "    ('Uso do Combustível do Motor', 'Consumo em cada status do motor', 'Marcha Lenta', 'Motor ligado mas improdutivo'),\n",
        "    ('Uso do Combustível do Motor', 'Consumo em cada status do motor', 'Carga Baixa', 'Motor ligado com baixo uso'),\n",
        "    ('Uso do Combustível do Motor', 'Consumo em cada status do motor', 'Carga Média', 'Motor ligado com uso regular'),\n",
        "    ('Uso do Combustível do Motor', 'Consumo em cada status do motor', 'Carga Alta', 'Motor ligado com uso intenso'),\n",
        "    ('Uso da Configuração do Modo do Motor', 'Tempo em cada configuração do motor', 'HP', 'Modo de Alta Potência'),\n",
        "    ('Uso da Configuração do Modo do Motor', 'Tempo em cada configuração do motor', 'P', 'Modo Padrão'),\n",
        "    ('Uso da Configuração do Modo do Motor', 'Tempo em cada configuração do motor', 'E', 'Modo Econômico');'''\n",
        ")"
      ]
    },
    {
      "cell_type": "code",
      "execution_count": 9,
      "metadata": {
        "colab": {
          "base_uri": "https://localhost:8080/"
        },
        "id": "FmAOaT3W2Rae",
        "outputId": "34329069-bdaa-45c6-e533-ac8f162d7a8b"
      },
      "outputs": [
        {
          "output_type": "stream",
          "name": "stdout",
          "text": [
            "['Chassis', 'Glossário Telemetria', 'Telemetria']\n"
          ]
        }
      ],
      "source": [
        "print(db.get_usable_table_names())"
      ]
    },
    {
      "cell_type": "code",
      "execution_count": 10,
      "metadata": {
        "colab": {
          "base_uri": "https://localhost:8080/"
        },
        "id": "uLlA7YnCQilL",
        "outputId": "0408de43-b744-4a10-c7f6-f51ac5019e71"
      },
      "outputs": [
        {
          "output_type": "stream",
          "name": "stdout",
          "text": [
            "[('Uso do Motor', 'Tempo em cada status de motor', 'Chave-Ligada', 'Motor desligado'), ('Uso do Motor', 'Tempo em cada status de motor', 'Marcha Lenta', 'Motor ligado mas improdutivo'), ('Uso do Motor', 'Tempo em cada status de motor', 'Carga Baixa', 'Motor ligado com baixo uso'), ('Uso do Motor', 'Tempo em cada status de motor', 'Carga Média', 'Motor ligado com uso regular'), ('Uso do Motor', 'Tempo em cada status de motor', 'Carga Alta', 'Motor ligado com uso intenso'), ('Uso do Combustível do Motor', 'Consumo em cada status do motor', 'Chave-Ligada', 'Motor desligado'), ('Uso do Combustível do Motor', 'Consumo em cada status do motor', 'Marcha Lenta', 'Motor ligado mas improdutivo'), ('Uso do Combustível do Motor', 'Consumo em cada status do motor', 'Carga Baixa', 'Motor ligado com baixo uso'), ('Uso do Combustível do Motor', 'Consumo em cada status do motor', 'Carga Média', 'Motor ligado com uso regular'), ('Uso do Combustível do Motor', 'Consumo em cada status do motor', 'Carga Alta', 'Motor ligado com uso intenso'), ('Uso da Configuração do Modo do Motor', 'Tempo em cada configuração do motor', 'HP', 'Modo de Alta Potência'), ('Uso da Configuração do Modo do Motor', 'Tempo em cada configuração do motor', 'P', 'Modo Padrão'), ('Uso da Configuração do Modo do Motor', 'Tempo em cada configuração do motor', 'E', 'Modo Econômico')]\n"
          ]
        }
      ],
      "source": [
        "# Exibe todos os dados da tabela 'Glossário Telemetria'\n",
        "resultados = db.run(\"SELECT * FROM 'Glossário Telemetria'\")\n",
        "print(resultados)\n"
      ]
    },
    {
      "cell_type": "code",
      "execution_count": 11,
      "metadata": {
        "colab": {
          "base_uri": "https://localhost:8080/"
        },
        "collapsed": true,
        "id": "4OBDdZyfqJSP",
        "outputId": "dbb5b5ea-2dbe-40c0-eb0e-72497ecd751c"
      },
      "outputs": [
        {
          "output_type": "stream",
          "name": "stdout",
          "text": [
            "['table_info', 'table_names']\n",
            "\n",
            "CREATE TABLE \"Chassis\" (\n",
            "\t\"Chassi\" INTEGER, \n",
            "\t\"Contrato\" INTEGER, \n",
            "\t\"Cliente\" INTEGER, \n",
            "\t\"Modelo\" INTEGER\n",
            ")\n",
            "\n",
            "/*\n",
            "3 rows from Chassis table:\n",
            "Chassi\tContrato\tCliente\tModelo\n",
            "20382\t2\t3\t20\n",
            "20450\t125\t20\t20\n",
            "20655\t91\t8\t20\n",
            "*/\n",
            "\n",
            "\n",
            "CREATE TABLE \"Glossário Telemetria\" (\n",
            "\t\"Categoria\" VARCHAR(50), \n",
            "\t\"Descricao_Categoria\" VARCHAR(100), \n",
            "\t\"Serie\" VARCHAR(20), \n",
            "\t\"Descricao_Serie\" VARCHAR(100)\n",
            ")\n",
            "\n",
            "/*\n",
            "3 rows from Glossário Telemetria table:\n",
            "Categoria\tDescricao_Categoria\tSerie\tDescricao_Serie\n",
            "Uso do Motor\tTempo em cada status de motor\tChave-Ligada\tMotor desligado\n",
            "Uso do Motor\tTempo em cada status de motor\tMarcha Lenta\tMotor ligado mas improdutivo\n",
            "Uso do Motor\tTempo em cada status de motor\tCarga Baixa\tMotor ligado com baixo uso\n",
            "*/\n",
            "\n",
            "\n",
            "CREATE TABLE \"Telemetria\" (\n",
            "\t\"Chassi\" INTEGER, \n",
            "\t\"UnidadeMedida\" TEXT, \n",
            "\t\"Categoria\" TEXT, \n",
            "\t\"Data\" TIMESTAMP, \n",
            "\t\"Serie\" TEXT, \n",
            "\t\"Valor\" REAL\n",
            ")\n",
            "\n",
            "/*\n",
            "3 rows from Telemetria table:\n",
            "Chassi\tUnidadeMedida\tCategoria\tData\tSerie\tValor\n",
            "808420\tl\tUso do Combustível do Motor\t2024-01-18 00:00:00\tCarga Baixa\t2.62786\n",
            "20658\thr\tUso da Configuração do Modo do Motor\t2024-01-17 00:00:00\tP\t0.283072222222222\n",
            "522857\thr\tUso do Motor\t2024-01-17 00:00:00\tChave-Ligada\t1.05563083333333\n",
            "*/\n"
          ]
        }
      ],
      "source": [
        "context = db.get_context()\n",
        "print(list(context))\n",
        "print(context[\"table_info\"])\n"
      ]
    },
    {
      "cell_type": "markdown",
      "metadata": {
        "id": "bIlIMIKBCi_j"
      },
      "source": [
        "['table_info', 'table_names']\n",
        "\n",
        "CREATE TABLE \"Chassis\" (\n",
        "\t\"Chassi\" INTEGER,\n",
        "\t\"Contrato\" INTEGER,\n",
        "\t\"Cliente\" INTEGER,\n",
        "\t\"Modelo\" INTEGER\n",
        ")\n",
        "\n",
        "/*\n",
        "3 rows from Chassis table:\n",
        "Chassi\tContrato\tCliente\tModelo\n",
        "20382\t2\t3\t20\n",
        "20450\t125\t20\t20\n",
        "20655\t91\t8\t20\n",
        "*/\n",
        "\n",
        "\n",
        "CREATE TABLE \"Glossário Telemetria\" (\n",
        "\t\"Categoria\" VARCHAR(50),\n",
        "\t\"Descricao_Categoria\" VARCHAR(100),\n",
        "\t\"Serie\" VARCHAR(20),\n",
        "\t\"Descricao_Serie\" VARCHAR(100)\n",
        ")\n",
        "\n",
        "/*\n",
        "3 rows from Glossário Telemetria table:\n",
        "Categoria\tDescricao_Categoria\tSerie\tDescricao_Serie\n",
        "Uso do Motor\tTempo em cada status de motor\tChave-Ligada\tMotor desligado\n",
        "Uso do Motor\tTempo em cada status de motor\tMarcha Lenta\tMotor ligado mas improdutivo\n",
        "Uso do Motor\tTempo em cada status de motor\tCarga Baixa\tMotor ligado com baixo uso\n",
        "*/\n",
        "\n",
        "\n",
        "CREATE TABLE \"Telemetria\" (\n",
        "\t\"Chassi\" INTEGER,\n",
        "\t\"UnidadeMedida\" TEXT,\n",
        "\t\"Categoria\" TEXT,\n",
        "\t\"Data\" TIMESTAMP,\n",
        "\t\"Serie\" TEXT,\n",
        "\t\"Valor\" REAL\n",
        ")\n",
        "\n",
        "/*\n",
        "3 rows from Telemetria table:\n",
        "Chassi\tUnidadeMedida\tCategoria\tData\tSerie\tValor\n",
        "808420\tl\tUso do Combustível do Motor\t2024-01-18 00:00:00\tCarga Baixa\t2.62786\n",
        "20658\thr\tUso da Configuração do Modo do Motor\t2024-01-17 00:00:00\tP\t0.283072222222222\n",
        "522857\thr\tUso do Motor\t2024-01-17 00:00:00\tChave-Ligada\t1.05563083333333\n",
        "*/"
      ]
    },
    {
      "cell_type": "markdown",
      "metadata": {
        "id": "BgL6bMlynUoN"
      },
      "source": [
        "## Modelo Gemni"
      ]
    },
    {
      "cell_type": "code",
      "execution_count": 25,
      "metadata": {
        "id": "acY-ZSuSwmf5"
      },
      "outputs": [],
      "source": [
        "def to_markdown(text):\n",
        "  text = text.replace('•', '  *')\n",
        "  return Markdown(textwrap.indent(text, '> ', predicate=lambda _: True))"
      ]
    },
    {
      "cell_type": "code",
      "execution_count": 26,
      "metadata": {
        "id": "23xhF5B3b0Tz"
      },
      "outputs": [],
      "source": [
        "from langchain.chains import create_sql_query_chain\n",
        "from langchain_google_genai import ChatGoogleGenerativeAI\n",
        "\n",
        "llm = ChatGoogleGenerativeAI(\n",
        "    model=\"gemini-1.0-pro\",\n",
        "    google_api_key=os.environ[\"GOOGLE_API_KEY\"])"
      ]
    },
    {
      "cell_type": "code",
      "execution_count": 27,
      "metadata": {
        "colab": {
          "base_uri": "https://localhost:8080/",
          "height": 0
        },
        "id": "U-7wydsX8Yqa",
        "outputId": "7c7f1723-e49b-452f-84ed-eb898f5ebce1"
      },
      "outputs": [
        {
          "output_type": "execute_result",
          "data": {
            "text/plain": [
              "<IPython.core.display.Markdown object>"
            ],
            "text/markdown": "> ```sql\n> SELECT \n>   \"Chassis\".\"Contrato\"\n> FROM \n>   \"Chassis\"\n> JOIN \n>   \"Telemetria\" ON \"Chassis\".\"Chassi\" = \"Telemetria\".\"Chassi\"\n> WHERE \n>   \"Telemetria\".\"Categoria\" = 'Uso do Combustível do Motor'\n>   AND \"Telemetria\".\"Serie\" = 'Carga Baixa'\n> GROUP BY \n>   \"Chassis\".\"Contrato\"\n> ORDER BY \n>   SUM(\"Telemetria\".\"Valor\") DESC\n> LIMIT \n>   5;\n> ```"
          },
          "metadata": {},
          "execution_count": 27
        }
      ],
      "source": [
        "chain = create_sql_query_chain(llm, db)\n",
        "response = chain.invoke({\"question\": \"Qual contrato possui maior gasto de combustível com o motor ligado mas improdutivo?\"})\n",
        "to_markdown(response)"
      ]
    },
    {
      "cell_type": "markdown",
      "metadata": {
        "id": "jDBz3IjPa8bP"
      },
      "source": [
        "###Few Shot Examples"
      ]
    },
    {
      "cell_type": "code",
      "source": [
        "#teste de few shots\n",
        "examples = [\n",
        "    {\n",
        "        \"input\": \"Para o chassi 020421, qual foi o uso do motor em configuração chave-ligada no dia 05/01/2024?\",\n",
        "        \"query\": 'SELECT ROUND(Valor, 2)  AS Calculo, UnidadeMedida FROM Telemetria WHERE Chassi = 20421 AND Categoria = \"Uso do Motor\" AND Serie = \"Chave-Ligada\" AND Data LIKE \"2024-01-05%\";',\n",
        "    },\n",
        "    {\n",
        "        \"input\": \"qual foi o Tempo em cada configuração do motor do chassi 020655 no dia 11/01/2024?\",\n",
        "        \"query\": 'SELECT ROUND(Valor, 2)  AS Calculo, UnidadeMedida, Serie FROM Telemetria WHERE Chassi = 20655 AND Categoria = \"Uso da Configuração do Modo do Motor\" AND Data LIKE \"2024-01-11%\";',\n",
        "    },\n",
        "    {\n",
        "        \"input\": \"Qual foi o consumo total de combustivel por modelo?\",\n",
        "        \"query\": 'SELECT ROUND(SUM(Valor), 2) AS Calculo, UnidadeMedida, Chassis.Modelo AS ModeloChassi FROM Telemetria JOIN Chassis ON Telemetria.Chassi = Chassis.Chassi WHERE Telemetria.Categoria = \"Uso do Combustível do Motor\" GROUP BY Chassis.Modelo ORDER BY Calculo;'\n",
        "    },\n",
        "    {\n",
        "        \"input\": \"Qual foi o uso do motor do chassi 020655 em fevereiro?\",\n",
        "        \"query\": 'SELECT ROUND(SUM(Valor), 2) AS Calculo, UnidadeMedida FROM Telemetria WHERE Chassi = 20655 AND Categoria = \"Uso do Motor\" AND Data LIKE \"2024-02%\";'\n",
        "    },\n",
        "    {\n",
        "        \"input\": \"Qual contrato possui maior gasto de combustível com o motor ligado mas improdutivo?\",\n",
        "        \"query\": 'SELECT DISTINCT Chassis.Contrato, ROUND(SUM(Telemetria.Valor), 2) AS Calculo FROM Telemetria JOIN Chassis ON Telemetria.Chassi = Chassis.Chassi WHERE Telemetria.Categoria = \"Uso do Motor\" AND Telemetria.Serie = \"Marcha Lenta\" GROUP BY Chassis.Contrato ORDER BY Calculo DESC;'\n",
        "    },\n",
        "    {\n",
        "       \"input\": \"Qual cliente possui o maior consumo de combustível em modo de carga alta?\",\n",
        "       \"query\": 'SELECT DISTINCT Chassis.Cliente, ROUND(SUM(Telemetria.Valor), 2) AS Calculo FROM Telemetria JOIN Chassis ON Telemetria.Chassi = Chassis.Chassi WHERE Telemetria.Categoria = \"Uso do Combustível do Motor\" AND Telemetria.Serie = \"Carga Alta\" GROUP BY Chassis.Cliente ORDER BY Calculo DESC;'\n",
        "    },\n",
        "    {\n",
        "        \"input\": \"Qual o tempo total de uso do motor por cliente em cada modo de configuração (econômico, alta potência, padrão)?\",\n",
        "        \"query\": 'SELECT DISTINCT Chassis.Cliente, Glossario.\"Descricao_Serie\", ROUND(SUM(Telemetria.Valor), 2) AS Calculo FROM Telemetria JOIN Chassis ON Telemetria.Chassi = Chassis.Chassi JOIN \"Glossário Telemetria\" AS Glossario ON Telemetria.Serie = Glossario.Serie WHERE Telemetria.Categoria = \"Uso da Configuração do Modo do Motor\" GROUP BY Chassis.Cliente, Glossario.\"Descricao_Serie\" ORDER BY Chassis.Cliente, Calculo;'\n",
        "    },\n",
        "    {\n",
        "        \"input\": \"Quais chassis apresentam o maior consumo de combustível com o motor ligado mas improdutivo?\",\n",
        "        \"query\": 'SELECT Telemetria.Chassi, ROUND(SUM(Telemetria.Valor), 2) AS Calculo FROM Telemetria WHERE Telemetria.Categoria = \"Uso do Motor\" AND Telemetria.Serie = \"Marcha Lenta\" GROUP BY Telemetria.Chassi ORDER BY Calculo DESC;'\n",
        "    },\n",
        "    {\n",
        "        \"input\": \"Qual contrato registra mais horas de motor ligado com carga baixa?\",\n",
        "        \"query\": 'SELECT DISTINCT Chassis.Contrato, ROUND(SUM(Telemetria.Valor), 2) AS Calculo FROM Telemetria JOIN Chassis ON Telemetria.Chassi = Chassis.Chassi WHERE Telemetria.Categoria = \"Uso do Motor\" AND Telemetria.Serie = \"Carga Baixa\" GROUP BY Chassis.Contrato ORDER BY Calculo DESC;'\n",
        "    },\n",
        "    {\n",
        "        \"input\": \"Qual o cliente com maior número de horas no modo marcha lenta?\",\n",
        "        \"query\": 'SELECT DISTINCT Chassis.Cliente, ROUND(SUM(Telemetria.Valor), 2) AS Calculo FROM Telemetria JOIN Chassis ON Telemetria.Chassi = Chassis.Chassi WHERE Telemetria.Categoria = \"Uso do Motor\" AND Telemetria.Serie = \"Marcha Lenta\" GROUP BY Chassis.Cliente ORDER BY Calculo DESC;'\n",
        "    },\n",
        "    {\n",
        "        \"input\": \"Qual a média de horas de operação em cada modo de configuração do motor para cada modelo de máquina?\",\n",
        "        \"query\": 'SELECT DISTINCT Chassis.Modelo, Glossario.\"Descricao_Serie\", ROUND(AVG(Telemetria.Valor), 2) AS Calculo FROM Telemetria JOIN Chassis ON Telemetria.Chassi = Chassis.Chassi JOIN \"Glossário Telemetria\" AS Glossario ON Telemetria.Serie = Glossario.Serie WHERE Telemetria.Categoria = \"Uso da Configuração do Modo do Motor\" GROUP BY Chassis.Modelo, Glossario.\"Descricao_Serie\" ORDER BY Chassis.Modelo, Calculo;'\n",
        "    },\n",
        "    {\n",
        "        \"input\": \"Qual configuração do motor (econômico, padrão, alta potência) é mais usada em cada modelo de máquina?\",\n",
        "        \"query\": 'SELECT Chassis.Modelo, Glossario.\"Descricao_Serie\", ROUND(SUM(Telemetria.Valor), 2) AS Calculo FROM Telemetria JOIN Chassis ON Telemetria.Chassi = Chassis.Chassi JOIN \"Glossário Telemetria\" AS Glossario ON Telemetria.Serie = Glossario.Serie WHERE Telemetria.Categoria = \"Uso da Configuração do Modo do Motor\" GROUP BY Chassis.Modelo, Glossario.\"Descricao_Serie\" ORDER BY Chassis.Modelo, Calculo;'\n",
        "    },\n",
        "    {\n",
        "        \"input\": \"Qual cliente utiliza mais o motor em modo econômico?\",\n",
        "        \"query\": 'SELECT DISTINCT Chassis.Cliente, ROUND(SUM(Telemetria.Valor), 2) AS Calculo FROM Telemetria JOIN Chassis ON Telemetria.Chassi = Chassis.Chassi WHERE Telemetria.Categoria = \"Uso da Configuração do Modo do Motor\" AND Telemetria.Serie = \"E\" GROUP BY Chassis.Cliente ORDER BY Calculo DESC;'\n",
        "    },\n",
        "    {\n",
        "        \"input\": \"Qual contrato tem a maior proporção de tempo no modo marcha lenta em relação ao tempo total do motor?\",\n",
        "        \"query\": 'SELECT Chassis.Contrato, ROUND((SUM(CASE WHEN Telemetria.Serie = \"Marcha Lenta\" THEN Telemetria.Valor ELSE 0 END) / SUM(Telemetria.Valor)) * 100, 2) AS Calculo FROM Telemetria JOIN Chassis ON Telemetria.Chassi = Chassis.Chassi WHERE Telemetria.Categoria = \"Uso do Motor\" GROUP BY Chassis.Contrato ORDER BY Calculo DESC;'\n",
        "    },\n",
        "    {\n",
        "        \"input\": \"Qual o total de horas de uso do motor para cada contrato, considerando todos os status de carga?\",\n",
        "        \"query\": 'SELECT Chassis.Contrato, ROUND(SUM(Telemetria.Valor), 2) AS Calculo FROM Telemetria JOIN Chassis ON Telemetria.Chassi = Chassis.Chassi WHERE Telemetria.Categoria = \"Uso do Motor\" GROUP BY Chassis.Contrato ORDER BY Calculo;'\n",
        "    },\n",
        "    {\n",
        "        \"input\": \"Quais contratos apresentam o maior índice de uso em condições intensas (carga alta)?\",\n",
        "        \"query\": 'SELECT DISTINCT Chassis.Contrato, ROUND(SUM(Telemetria.Valor), 2) AS Calculo FROM Telemetria JOIN Chassis ON Telemetria.Chassi = Chassis.Chassi WHERE Telemetria.Categoria = \"Uso do Motor\" AND Telemetria.Serie = \"Carga Alta\" GROUP BY Chassis.Contrato ORDER BY Calculo DESC;'\n",
        "    },\n",
        "    {\n",
        "        \"input\": \"Quais máquinas apresentam maior tempo de inatividade (tempo em chave-ligada com motor desligado)?\",\n",
        "        \"query\": 'SELECT Chassis.Chassi, ROUND(SUM(Telemetria.Valor), 2) AS Calculo FROM Telemetria JOIN Chassis ON Telemetria.Chassi = Chassis.Chassi WHERE Telemetria.Categoria = \"Uso do Motor\" AND Telemetria.Serie = \"Chave-Ligada\" GROUP BY Chassis.Chassi ORDER BY Calculo DESC;'\n",
        "    },\n",
        "    {\n",
        "        \"input\": \"Qual modelo de máquina consome mais combustível em média por tipo de uso (carga baixa, média, alta)?\",\n",
        "        \"query\": 'SELECT Chassis.Modelo, Glossario.\"Descricao_Serie\", ROUND(SUM(Telemetria.Valor)/COUNT(Telemetria.Valor), 2) AS Calculo FROM Telemetria JOIN Chassis ON Telemetria.Chassi = Chassis.Chassi JOIN \"Glossário Telemetria\" AS Glossario ON Telemetria.Serie = Glossario.Serie WHERE Telemetria.Categoria = \"Uso do Combustível do Motor\" GROUP BY Chassis.Modelo, Glossario.\"Descricao_Serie\" ORDER BY Chassis.Modelo, Calculo DESC;'\n",
        "    },\n",
        "    {\n",
        "        \"input\": \"Qual o uso do motor 020655 no dia 02/01/2024?\",\n",
        "        \"query\": 'SELECT ROUND(Valor, 2)  AS Calculo, UnidadeMedida, Serie FROM Telemetria WHERE Chassi = 20655 AND Categoria = \"Uso do Motor\" AND Data LIKE \"2024-01-02%\";'\n",
        "    },\n",
        "    {\n",
        "        \"input\": \"Qual o uso do combustível 020382 nos 15 primeiros dias de janeiro, por dia e por série?\",\n",
        "        \"query\": '''\n",
        "                SELECT ROUND(Valor, 2) AS Calculo, UnidadeMedida, Serie, DATE(Data) AS Data FROM Telemetria WHERE Chassi = 20382 AND Categoria = \"Uso do Combustível do Motor\" AND Data BETWEEN \"2024-01-01\" AND \"2024-01-15\" ORDER BY Data;'''\n",
        "    },\n",
        "    {\n",
        "        \"input\": \"Qual contrato possui menor gasto de combustivel em marcha média?\",\n",
        "        \"query\": '''\n",
        "                SELECT DISTINCT Chassis.Contrato, ROUND(SUM(Telemetria.Valor), 2) AS Calculo FROM Telemetria JOIN Chassis ON Telemetria.Chassi = Chassis.Chassi WHERE Telemetria.Categoria = \"Uso do Combustível do Motor\" AND Telemetria.Serie = \"Carga Média\" GROUP BY Chassis.Contrato ORDER BY Calculo ASC;'''\n",
        "    },\n",
        "    {\n",
        "        \"input\": \"Qual cliente possui maior gasto de combustivel médio por chassi?\",\n",
        "        \"query\": '''\n",
        "                SELECT Chassis.Cliente, ROUND(AVG(Telemetria.Valor), 2) AS Calculo FROM Telemetria JOIN Chassis ON Telemetria.Chassi = Chassis.Chassi WHERE Telemetria.Categoria = \"Uso do Combustível do Motor\" GROUP BY Chassis.Cliente ORDER BY Calculo DESC;'''\n",
        "    },\n",
        "    {\n",
        "        \"input\": \"Qual modelo consome menos combustivel em média por tipo de uso(carga baixa,média e alta)?\",\n",
        "        \"query\": '''\n",
        "                SELECT Chassis.Modelo, Glossario.\"Descricao_Serie\", ROUND(SUM(Telemetria.Valor)/COUNT(Telemetria.Valor), 2) AS Calculo FROM Telemetria JOIN Chassis ON Telemetria.Chassi = Chassis.Chassi JOIN \"Glossário Telemetria\" AS Glossario ON Telemetria.Serie = Glossario.Serie WHERE Telemetria.Categoria = \"Uso do Combustível do Motor\" GROUP BY Chassis.Modelo, Glossario.\"Descricao_Serie\" ORDER BY Chassis.Modelo, Calculo ASC;'''\n",
        "    },\n",
        "    {\n",
        "        \"input\": \"Qual cliente registra mais horas de motor ligado com carga baixa?\",\n",
        "        \"query\": '''\n",
        "                SELECT DISTINCT Chassis.Cliente, ROUND(SUM(Telemetria.Valor), 2) AS Calculo FROM Telemetria JOIN Chassis ON Telemetria.Chassi = Chassis.Chassi WHERE Telemetria.Categoria = \"Uso do Motor\" AND Telemetria.Serie = \"Carga Baixa\" GROUP BY Chassis.Cliente ORDER BY Calculo DESC;'''\n",
        "    },\n",
        "    {\n",
        "        \"input\": \"Qual chassi tem o maior numero de horas no modo marcha lenta?\",\n",
        "        \"query\": '''\n",
        "                SELECT Chassis.Chassi, ROUND(SUM(Telemetria.Valor), 2) AS Calculo FROM Telemetria JOIN Chassis ON Telemetria.Chassi = Chassis.Chassi WHERE Telemetria.Categoria = \"Uso do Motor\" AND Telemetria.Serie = \"Marcha Lenta\" GROUP BY Chassis.Chassi ORDER BY Calculo DESC;'''\n",
        "    },\n",
        "    {\n",
        "        \"input\": \"Qual a média de horas de operação em cada modo de configuração por contrato?\",\n",
        "        \"query\": '''\n",
        "                SELECT DISTINCT Chassis.Contrato, Glossario.\"Descricao_Serie\", ROUND(AVG(Telemetria.Valor), 2) AS Calculo FROM Telemetria JOIN Chassis ON Telemetria.Chassi = Chassis.Chassi JOIN \"Glossário Telemetria\" AS Glossario ON Telemetria.Serie = Glossario.Serie WHERE Telemetria.Categoria = \"Uso da Configuração do Modo do Motor\" GROUP BY Chassis.Contrato, Glossario.\"Descricao_Serie\" ORDER BY Chassis.Contrato, Calculo;'''\n",
        "    },\n",
        "]"
      ],
      "metadata": {
        "id": "DJamofELd8nI"
      },
      "execution_count": 28,
      "outputs": []
    },
    {
      "cell_type": "markdown",
      "metadata": {
        "id": "9B68d8zSbHh9"
      },
      "source": [
        "###Few Shot Dinâmico"
      ]
    },
    {
      "cell_type": "code",
      "execution_count": 29,
      "metadata": {
        "id": "e_OEZNupbG7z"
      },
      "outputs": [],
      "source": [
        "from langchain_community.vectorstores import FAISS\n",
        "from langchain_core.example_selectors import SemanticSimilarityExampleSelector\n",
        "from langchain_google_genai import GoogleGenerativeAIEmbeddings\n",
        "\n",
        "example_selector = SemanticSimilarityExampleSelector.from_examples(\n",
        "    examples,\n",
        "    GoogleGenerativeAIEmbeddings(model=\"models/embedding-001\"),\n",
        "    FAISS,\n",
        "    k=3,\n",
        "    input_keys=[\"input\"],\n",
        ")"
      ]
    },
    {
      "cell_type": "code",
      "execution_count": 30,
      "metadata": {
        "colab": {
          "base_uri": "https://localhost:8080/"
        },
        "id": "2TZTFZ4Dvgc-",
        "outputId": "e45c95c0-cf29-4511-97ff-0caf818eb008"
      },
      "outputs": [
        {
          "output_type": "execute_result",
          "data": {
            "text/plain": [
              "[{'input': 'Qual cliente possui o maior consumo de combustível em modo de carga alta?',\n",
              "  'query': 'SELECT DISTINCT Chassis.Cliente, ROUND(SUM(Telemetria.Valor), 2) AS Calculo FROM Telemetria JOIN Chassis ON Telemetria.Chassi = Chassis.Chassi WHERE Telemetria.Categoria = \"Uso do Combustível do Motor\" AND Telemetria.Serie = \"Carga Alta\" GROUP BY Chassis.Cliente ORDER BY Calculo DESC;'},\n",
              " {'input': 'Qual cliente possui maior gasto de combustivel médio por chassi?',\n",
              "  'query': '\\n                SELECT Chassis.Cliente, ROUND(AVG(Telemetria.Valor), 2) AS Calculo FROM Telemetria JOIN Chassis ON Telemetria.Chassi = Chassis.Chassi WHERE Telemetria.Categoria = \"Uso do Combustível do Motor\" GROUP BY Chassis.Cliente ORDER BY Calculo DESC;'},\n",
              " {'input': 'Qual contrato possui menor gasto de combustivel em marcha média?',\n",
              "  'query': '\\n                SELECT DISTINCT Chassis.Contrato, ROUND(SUM(Telemetria.Valor), 2) AS Calculo FROM Telemetria JOIN Chassis ON Telemetria.Chassi = Chassis.Chassi WHERE Telemetria.Categoria = \"Uso do Combustível do Motor\" AND Telemetria.Serie = \"Carga Média\" GROUP BY Chassis.Contrato ORDER BY Calculo ASC;'}]"
            ]
          },
          "metadata": {},
          "execution_count": 30
        }
      ],
      "source": [
        "example_selector.select_examples({\"input\": \"qual cliente gastou mais combustivel em fevereiro?\"})"
      ]
    },
    {
      "cell_type": "markdown",
      "metadata": {
        "id": "7-eT2d3wNWX7"
      },
      "source": [
        "###Prompt"
      ]
    },
    {
      "cell_type": "code",
      "execution_count": 31,
      "metadata": {
        "id": "sqgkm1Unv8Ks"
      },
      "outputs": [],
      "source": [
        "from langchain import FewShotPromptTemplate, PromptTemplate\n",
        "\n",
        "example_prompt = PromptTemplate.from_template(\"User input: {input}\\nSQL query: {query}\")\n",
        "\n",
        "prompt = FewShotPromptTemplate(\n",
        "    example_selector=example_selector,\n",
        "    example_prompt=example_prompt,\n",
        "    example_separator=\"\\n\\n\",\n",
        "    prefix=\"\"\"You are a SQLite expert. Given an input question, create a syntactically correct SQLite query to run.\n",
        "    Don't add '''sql at the beggining. Unless otherwise specificed, do not return more than {top_k} rows. Round the data up to 2 decimal places.\n",
        "    \\n\\nHere is the relevant table info: {table_info}\\n\n",
        "\n",
        "    If the user asks for 'Alta potencia' for Uso da configuração do motor, search for serie 'HP' in the table'\n",
        "    If the user asks for 'Modo padrão' for Uso da configuração do motor, search for serie 'P' in the table'\n",
        "    If the user asks for 'Modo econômico' for Uso da configuração do motor, search for serie 'E' in the table'\n",
        "    If the user asks for 'Motor desligado' search for the series 'Chave-Ligada'\n",
        "    If the user asks for 'Motor ligado mas improdutivo' search for the series 'Marcha lenta'\n",
        "    If the user asks for 'Motor ligado com baixo uso' search for the series 'Carga Baixa'\n",
        "    If the user asks for 'Motor ligado com uso regular' search for the series 'Carga Média'\n",
        "    If the user asks for 'Motor ligado com uso intenso' search for the series 'Carga Alta'\n",
        "    If the user does not specify total use, divide the query into the different series\n",
        "\n",
        "  \\nBelow are a number of examples of questions and their corresponding SQL queries.\n",
        "    \"\"\",\n",
        "    suffix=\"User input: {input}\\nSQL query: \",\n",
        "    input_variables=[\"input\", \"top_k\", \"table_info\"],\n",
        ")\n"
      ]
    },
    {
      "cell_type": "code",
      "execution_count": 32,
      "metadata": {
        "colab": {
          "base_uri": "https://localhost:8080/"
        },
        "collapsed": true,
        "id": "a8PcTfTqvy6k",
        "outputId": "43bafd80-4a59-45f6-98d9-57d897deb8a5"
      },
      "outputs": [
        {
          "output_type": "stream",
          "name": "stdout",
          "text": [
            "You are a SQLite expert. Given an input question, create a syntactically correct SQLite query to run.\n",
            "    Don't add '''sql at the beggining. Unless otherwise specificed, do not return more than 3 rows. Round the data up to 2 decimal places.\n",
            "    \n",
            "\n",
            "Here is the relevant table info: \n",
            "CREATE TABLE \"Chassis\" (\n",
            "\t\"Chassi\" INTEGER, \n",
            "\t\"Contrato\" INTEGER, \n",
            "\t\"Cliente\" INTEGER, \n",
            "\t\"Modelo\" INTEGER\n",
            ")\n",
            "\n",
            "/*\n",
            "3 rows from Chassis table:\n",
            "Chassi\tContrato\tCliente\tModelo\n",
            "20382\t2\t3\t20\n",
            "20450\t125\t20\t20\n",
            "20655\t91\t8\t20\n",
            "*/\n",
            "\n",
            "\n",
            "CREATE TABLE \"Glossário Telemetria\" (\n",
            "\t\"Categoria\" VARCHAR(50), \n",
            "\t\"Descricao_Categoria\" VARCHAR(100), \n",
            "\t\"Serie\" VARCHAR(20), \n",
            "\t\"Descricao_Serie\" VARCHAR(100)\n",
            ")\n",
            "\n",
            "/*\n",
            "3 rows from Glossário Telemetria table:\n",
            "Categoria\tDescricao_Categoria\tSerie\tDescricao_Serie\n",
            "Uso do Motor\tTempo em cada status de motor\tChave-Ligada\tMotor desligado\n",
            "Uso do Motor\tTempo em cada status de motor\tMarcha Lenta\tMotor ligado mas improdutivo\n",
            "Uso do Motor\tTempo em cada status de motor\tCarga Baixa\tMotor ligado com baixo uso\n",
            "*/\n",
            "\n",
            "\n",
            "CREATE TABLE \"Telemetria\" (\n",
            "\t\"Chassi\" INTEGER, \n",
            "\t\"UnidadeMedida\" TEXT, \n",
            "\t\"Categoria\" TEXT, \n",
            "\t\"Data\" TIMESTAMP, \n",
            "\t\"Serie\" TEXT, \n",
            "\t\"Valor\" REAL\n",
            ")\n",
            "\n",
            "/*\n",
            "3 rows from Telemetria table:\n",
            "Chassi\tUnidadeMedida\tCategoria\tData\tSerie\tValor\n",
            "808420\tl\tUso do Combustível do Motor\t2024-01-18 00:00:00\tCarga Baixa\t2.62786\n",
            "20658\thr\tUso da Configuração do Modo do Motor\t2024-01-17 00:00:00\tP\t0.283072222222222\n",
            "522857\thr\tUso do Motor\t2024-01-17 00:00:00\tChave-Ligada\t1.05563083333333\n",
            "*/\n",
            "\n",
            "\n",
            "    If the user asks for 'Alta potencia' for Uso da configuração do motor, search for serie 'HP' in the table'\n",
            "    If the user asks for 'Modo padrão' for Uso da configuração do motor, search for serie 'P' in the table'\n",
            "    If the user asks for 'Modo econômico' for Uso da configuração do motor, search for serie 'E' in the table'\n",
            "    If the user asks for 'Motor desligado' search for the series 'Chave-Ligada'\n",
            "    If the user asks for 'Motor ligado mas improdutivo' search for the series 'Marcha lenta'\n",
            "    If the user asks for 'Motor ligado com baixo uso' search for the series 'Carga Baixa'\n",
            "    If the user asks for 'Motor ligado com uso regular' search for the series 'Carga Média'\n",
            "    If the user asks for 'Motor ligado com uso intenso' search for the series 'Carga Alta'\n",
            "    If the user does not specify total use, divide the query into the different series\n",
            "\n",
            "  \n",
            "Below are a number of examples of questions and their corresponding SQL queries.\n",
            "    \n",
            "\n",
            "User input: Qual o tempo total de uso do motor por cliente em cada modo de configuração (econômico, alta potência, padrão)?\n",
            "SQL query: SELECT DISTINCT Chassis.Cliente, Glossario.\"Descricao_Serie\", ROUND(SUM(Telemetria.Valor), 2) AS Calculo FROM Telemetria JOIN Chassis ON Telemetria.Chassi = Chassis.Chassi JOIN \"Glossário Telemetria\" AS Glossario ON Telemetria.Serie = Glossario.Serie WHERE Telemetria.Categoria = \"Uso da Configuração do Modo do Motor\" GROUP BY Chassis.Cliente, Glossario.\"Descricao_Serie\" ORDER BY Chassis.Cliente, Calculo;\n",
            "\n",
            "User input: Qual a média de horas de operação em cada modo de configuração do motor para cada modelo de máquina?\n",
            "SQL query: SELECT DISTINCT Chassis.Modelo, Glossario.\"Descricao_Serie\", ROUND(AVG(Telemetria.Valor), 2) AS Calculo FROM Telemetria JOIN Chassis ON Telemetria.Chassi = Chassis.Chassi JOIN \"Glossário Telemetria\" AS Glossario ON Telemetria.Serie = Glossario.Serie WHERE Telemetria.Categoria = \"Uso da Configuração do Modo do Motor\" GROUP BY Chassis.Modelo, Glossario.\"Descricao_Serie\" ORDER BY Chassis.Modelo, Calculo;\n",
            "\n",
            "User input: Qual o total de horas de uso do motor para cada contrato, considerando todos os status de carga?\n",
            "SQL query: SELECT Chassis.Contrato, ROUND(SUM(Telemetria.Valor), 2) AS Calculo FROM Telemetria JOIN Chassis ON Telemetria.Chassi = Chassis.Chassi WHERE Telemetria.Categoria = \"Uso do Motor\" GROUP BY Chassis.Contrato ORDER BY Calculo;\n",
            "\n",
            "User input: Qual o tempo total de uso do motor por cliente em cada modo de configuração (econômico, alta potência, padrão)?\n",
            "SQL query: \n"
          ]
        }
      ],
      "source": [
        "print(prompt.format(input=\"Qual o tempo total de uso do motor por cliente em cada modo de configuração (econômico, alta potência, padrão)?\", top_k=3, table_info=context[\"table_info\"]))"
      ]
    },
    {
      "cell_type": "markdown",
      "metadata": {
        "id": "kbjkS11pM-V-"
      },
      "source": [
        "### Chain - Gerar SQL"
      ]
    },
    {
      "cell_type": "code",
      "execution_count": 33,
      "metadata": {
        "colab": {
          "base_uri": "https://localhost:8080/",
          "height": 0
        },
        "id": "qinSkmlyzACU",
        "outputId": "414a0a80-7582-447d-b977-a376f7505bca"
      },
      "outputs": [
        {
          "output_type": "execute_result",
          "data": {
            "text/plain": [
              "<IPython.core.display.Markdown object>"
            ],
            "text/markdown": "> SELECT ROUND(SUM(Valor), 2) AS Calculo, UnidadeMedida FROM Telemetria WHERE Chassi = 20655 AND Categoria = \"Uso do Motor\" AND Serie = \"Marcha Lenta\" AND Data LIKE \"2024-01%\";"
          },
          "metadata": {},
          "execution_count": 33
        }
      ],
      "source": [
        "write_query = create_sql_query_chain(llm, db, prompt)\n",
        "teste = write_query.invoke({\"question\": \"Quanto tempo o chassi 020655 ficou improdutivo em Janeiro?\"})\n",
        "to_markdown(teste)"
      ]
    },
    {
      "cell_type": "code",
      "execution_count": 34,
      "metadata": {
        "colab": {
          "base_uri": "https://localhost:8080/",
          "height": 0
        },
        "id": "U87ziVhcjWRr",
        "outputId": "77bec5be-0b78-4f14-9c77-6c61ad9ecb7c"
      },
      "outputs": [
        {
          "output_type": "execute_result",
          "data": {
            "text/plain": [
              "\"[(4.52, 'hr')]\""
            ],
            "application/vnd.google.colaboratory.intrinsic+json": {
              "type": "string"
            }
          },
          "metadata": {},
          "execution_count": 34
        }
      ],
      "source": [
        "resultado_query = db.run(teste)\n",
        "resultado_query"
      ]
    },
    {
      "cell_type": "markdown",
      "source": [
        "###Chain - Execução da Query"
      ],
      "metadata": {
        "id": "728JrSxUeuyH"
      }
    },
    {
      "cell_type": "code",
      "execution_count": 35,
      "metadata": {
        "colab": {
          "base_uri": "https://localhost:8080/",
          "height": 0
        },
        "id": "qWv_SkowI2To",
        "outputId": "fef4002f-06d5-4644-d17e-258c314d0a4a"
      },
      "outputs": [
        {
          "output_type": "execute_result",
          "data": {
            "text/plain": [
              "\"[(20382, 1.52, 'E', '2024-01-02'), (20382, 0.0, 'HP', '2024-01-02'), (20382, 0.0, 'P', '2024-01-02'), (20382, 0.18, 'E', '2024-01-03'), (20382, 0.0, 'HP', '2024-01-03'), (20382, 0.0, 'P', '2024-01-03'), (20382, 0.9, 'E', '2024-01-04'), (20382, 0.0, 'HP', '2024-01-04'), (20382, 0.0, 'P', '2024-01-04'), (20382, 4.65, 'E', '2024-01-05'), (20382, 0.0, 'HP', '2024-01-05'), (20382, 0.98, 'P', '2024-01-05'), (20382, 2.63, 'E', '2024-01-06'), (20382, 0.0, 'HP', '2024-01-06'), (20382, 0.64, 'P', '2024-01-06'), (20382, 0.4, 'E', '2024-01-07'), (20382, 0.0, 'HP', '2024-01-07'), (20382, 0.0, 'P', '2024-01-07'), (20382, 4.02, 'E', '2024-01-08'), (20382, 0.0, 'HP', '2024-01-08'), (20382, 2.5, 'P', '2024-01-08'), (20382, 9.15, 'E', '2024-01-09'), (20382, 0.0, 'HP', '2024-01-09'), (20382, 0.44, 'P', '2024-01-09'), (20382, 4.69, 'E', '2024-01-10'), (20382, 0.0, 'HP', '2024-01-10'), (20382, 5.19, 'P', '2024-01-10'), (20382, 8.27, 'E', '2024-01-11'), (20382, 0.0, 'HP', '2024-01-11'), (20382, 4.66, 'P', '2024-01-11'), (20382, 4.81, 'E', '2024-01-12'), (20382, 0.0, 'HP', '2024-01-12'), (20382, 0.45, 'P', '2024-01-12'), (20382, 1.73, 'E', '2024-01-13'), (20382, 0.0, 'HP', '2024-01-13'), (20382, 0.0, 'P', '2024-01-13'), (20382, 2.11, 'E', '2024-01-14'), (20382, 0.0, 'HP', '2024-01-14'), (20382, 0.0, 'P', '2024-01-14'), (20382, 5.04, 'E', '2024-01-15'), (20382, 0.0, 'HP', '2024-01-15'), (20382, 0.84, 'P', '2024-01-15'), (20382, 10.62, 'E', '2024-01-16'), (20382, 0.0, 'HP', '2024-01-16'), (20382, 6.09, 'P', '2024-01-16'), (20382, 13.5, 'E', '2024-01-17'), (20382, 0.0, 'HP', '2024-01-17'), (20382, 2.42, 'P', '2024-01-17'), (20382, 13.59, 'E', '2024-01-18'), (20382, 0.0, 'HP', '2024-01-18'), (20382, 7.54, 'P', '2024-01-18'), (20382, 6.97, 'E', '2024-01-19'), (20382, 0.0, 'HP', '2024-01-19'), (20382, 9.04, 'P', '2024-01-19'), (20382, 6.01, 'E', '2024-01-20'), (20382, 0.0, 'HP', '2024-01-20'), (20382, 4.66, 'P', '2024-01-20'), (20382, 3.87, 'E', '2024-01-21'), (20382, 0.0, 'HP', '2024-01-21'), (20382, 2.31, 'P', '2024-01-21'), (20382, 9.62, 'E', '2024-01-22'), (20382, 0.0, 'HP', '2024-01-22'), (20382, 5.22, 'P', '2024-01-22'), (20382, 8.74, 'E', '2024-01-23'), (20382, 0.0, 'HP', '2024-01-23'), (20382, 10.27, 'P', '2024-01-23'), (20382, 6.57, 'E', '2024-01-24'), (20382, 0.0, 'HP', '2024-01-24'), (20382, 13.02, 'P', '2024-01-24'), (20382, 6.08, 'E', '2024-01-25'), (20382, 0.0, 'HP', '2024-01-25'), (20382, 7.69, 'P', '2024-01-25'), (20382, 4.86, 'E', '2024-01-26'), (20382, 0.0, 'HP', '2024-01-26'), (20382, 6.71, 'P', '2024-01-26'), (20382, 7.36, 'E', '2024-01-27'), (20382, 0.0, 'HP', '2024-01-27'), (20382, 6.26, 'P', '2024-01-27'), (20382, 3.09, 'E', '2024-01-29'), (20382, 0.0, 'HP', '2024-01-29'), (20382, 6.16, 'P', '2024-01-29'), (20382, 2.21, 'E', '2024-01-30'), (20382, 0.0, 'HP', '2024-01-30'), (20382, 10.36, 'P', '2024-01-30'), (20382, 0.54, 'E', '2024-01-31'), (20382, 0.0, 'HP', '2024-01-31'), (20382, 0.14, 'P', '2024-01-31'), (20382, 0.51, 'E', '2024-02-01'), (20382, 0.0, 'HP', '2024-02-01'), (20382, 0.84, 'P', '2024-02-01'), (20382, 2.76, 'E', '2024-02-02'), (20382, 0.0, 'HP', '2024-02-02'), (20382, 0.0, 'P', '2024-02-02'), (20382, 3.03, 'E', '2024-02-03'), (20382, 0.0, 'HP', '2024-02-03'), (20382, 0.0, 'P', '2024-02-03'), (20382, 0.0, 'E', '2024-02-04'), (20382, 0.0, 'HP', '2024-02-04'), (20382, 0.24, 'P', '2024-02-04'), (20382, 3.95, 'E', '2024-02-05'), (20382, 0.0, 'HP', '2024-02-05'), (20382, 5.88, 'P', '2024-02-05'), (20382, 2.15, 'E', '2024-02-06'), (20382, 0.0, 'HP', '2024-02-06'), (20382, 5.63, 'P', '2024-02-06'), (20382, 1.31, 'E', '2024-02-07'), (20382, 0.0, 'HP', '2024-02-07'), (20382, 0.72, 'P', '2024-02-07'), (20382, 0.35, 'E', '2024-02-08'), (20382, 0.0, 'HP', '2024-02-08'), (20382, 5.61, 'P', '2024-02-08'), (20382, 0.48, 'E', '2024-02-09'), (20382, 0.0, 'HP', '2024-02-09'), (20382, 10.16, 'P', '2024-02-09'), (20382, 0.19, 'E', '2024-02-10'), (20382, 0.0, 'HP', '2024-02-10'), (20382, 6.91, 'P', '2024-02-10'), (20382, 0.44, 'E', '2024-02-11'), (20382, 0.0, 'HP', '2024-02-11'), (20382, 5.41, 'P', '2024-02-11'), (20382, 1.2, 'E', '2024-02-12'), (20382, 0.0, 'HP', '2024-02-12'), (20382, 10.15, 'P', '2024-02-12'), (20382, 5.67, 'E', '2024-02-13'), (20382, 0.0, 'HP', '2024-02-13'), (20382, 14.69, 'P', '2024-02-13'), (20382, 2.64, 'E', '2024-02-14'), (20382, 0.0, 'HP', '2024-02-14'), (20382, 12.63, 'P', '2024-02-14'), (20382, 5.95, 'E', '2024-02-15'), (20382, 0.0, 'HP', '2024-02-15'), (20382, 3.61, 'P', '2024-02-15'), (20382, 1.75, 'E', '2024-02-16'), (20382, 0.0, 'HP', '2024-02-16'), (20382, 10.72, 'P', '2024-02-16'), (20382, 6.09, 'E', '2024-02-17'), (20382, 0.0, 'HP', '2024-02-17'), (20382, 14.07, 'P', '2024-02-17'), (20382, 0.19, 'E', '2024-02-18'), (20382, 0.0, 'HP', '2024-02-18'), (20382, 5.31, 'P', '2024-02-18'), (20382, 6.42, 'E', '2024-02-19'), (20382, 0.0, 'HP', '2024-02-19'), (20382, 8.05, 'P', '2024-02-19'), (20382, 5.21, 'E', '2024-02-20'), (20382, 0.0, 'HP', '2024-02-20'), (20382, 13.88, 'P', '2024-02-20'), (20382, 5.16, 'E', '2024-02-21'), (20382, 0.0, 'HP', '2024-02-21'), (20382, 15.4, 'P', '2024-02-21'), (20382, 5.4, 'E', '2024-02-22'), (20382, 0.0, 'HP', '2024-02-22'), (20382, 11.29, 'P', '2024-02-22'), (20382, 0.37, 'E', '2024-02-23'), (20382, 0.0, 'HP', '2024-02-23'), (20382, 10.94, 'P', '2024-02-23'), (20382, 0.67, 'E', '2024-02-24'), (20382, 0.0, 'HP', '2024-02-24'), (20382, 0.0, 'P', '2024-02-24'), (20382, 0.8, 'E', '2024-02-26'), (20382, 0.0, 'HP', '2024-02-26'), (20382, 0.05, 'P', '2024-02-26'), (20382, 0.91, 'E', '2024-02-27'), (20382, 0.0, 'HP', '2024-02-27'), (20382, 0.0, 'P', '2024-02-27'), (20382, 3.5, 'E', '2024-02-28'), (20382, 0.0, 'HP', '2024-02-28'), (20382, 7.36, 'P', '2024-02-28'), (20382, 0.42, 'E', '2024-02-29'), (20382, 0.0, 'HP', '2024-02-29'), (20382, 1.59, 'P', '2024-02-29')]\""
            ],
            "application/vnd.google.colaboratory.intrinsic+json": {
              "type": "string"
            }
          },
          "metadata": {},
          "execution_count": 35
        }
      ],
      "source": [
        "from langchain_community.tools.sql_database.tool import QuerySQLDataBaseTool\n",
        "\n",
        "execute_query = QuerySQLDataBaseTool(db=db)\n",
        "write_query = create_sql_query_chain(llm, db, prompt)\n",
        "chain = write_query | execute_query\n",
        "chain.invoke({\"question\": \"uso do modo do motor 020382 , por serie e por dia?\"})"
      ]
    },
    {
      "cell_type": "markdown",
      "metadata": {
        "id": "xv-UbycQv106"
      },
      "source": [
        "### Chain - Resposta"
      ]
    },
    {
      "cell_type": "code",
      "execution_count": 36,
      "metadata": {
        "id": "G5FkfXJDIO6l"
      },
      "outputs": [],
      "source": [
        "from operator import itemgetter\n",
        "\n",
        "from langchain_core.output_parsers import StrOutputParser\n",
        "from langchain_core.prompts import PromptTemplate\n",
        "from langchain_core.runnables import RunnablePassthrough\n",
        "\n",
        "answer_prompt = PromptTemplate.from_template(\n",
        "\"\"\"Given the following user question, corresponding SQL query, and SQL result, answer the user question. All the data must be in the answer.\n",
        "Always answer with the full name of the measurement unit. Example: 10 hr -> 10 horas, 60000.00 l -> 60.000,00 litros.\n",
        "Provide only the date, never the time.\n",
        "After ansewring the question, show the SQL query that was used.\n",
        "\n",
        "\n",
        "For example:\n",
        "Answer: Para o chassi 020655, o uso do motor de configuração \"chave ligada\" do motor foi de 2 horas.\\n\n",
        "The SQL Query used was:\\n SELECT\\n ROUND(Valor, 2) AS Valor,\\n UnidadeMedida\\nFROM\\n Telemetria\\nWHERE\\n Chassi = 20655\\n AND Categoria = \"Uso do Motor\"\\n AND Serie = \"Carga Alta\"\\n AND Data LIKE \"2024-01-03%\";\n",
        "\n",
        "**Instruction**: When multiple items are requested (e.g., different modes or configurations), provide the answer in a list format. But before the list, write an introduction for the answer (like: \"Esses são os clientes...:\")\n",
        "\n",
        "**Conversion Rule**: If the result is in hours and less than 1 hour, convert it to minutes. Display minutes in the format `X minutos` (e.g., 0.5 hr -> 30 minutos).\n",
        "\n",
        "**Important**: Ensure that the SQL query used is always included in your response. This query is essential for transparency and traceability of the data provided in the answer. Always include the exact SQL query that generated the result shown.\n",
        "\n",
        "**Important**: Preserve all line breaks (`\\n`) in your response exactly as shown in the example. The `\\n` symbols indicate where a new line should start, and it is crucial to include them correctly for accurate formatting. Here’s the line-by-line breakdown for clarity:\n",
        "- Line 1: The SQL Query used was:\n",
        "- Line 2: SELECT\n",
        "- Line 3: ROUND(Valor, 2) AS Valor,\n",
        "\n",
        "Question: {question}\n",
        "SQL Query: {query}\n",
        "SQL Result: {result}\n",
        "Answer:\n",
        "\"\"\"\n",
        "\n",
        ")\n",
        "\n",
        "chain = (\n",
        "    RunnablePassthrough.assign(query=write_query).assign(\n",
        "        result=itemgetter(\"query\") | execute_query\n",
        "    )\n",
        "    | answer_prompt\n",
        "    | llm\n",
        "    | StrOutputParser()\n",
        ")\n"
      ]
    },
    {
      "cell_type": "markdown",
      "metadata": {
        "id": "PvZAIjVpkyCX"
      },
      "source": [
        "###Teste\n"
      ]
    },
    {
      "cell_type": "code",
      "execution_count": 37,
      "metadata": {
        "id": "fkIqP7mlgmLN",
        "colab": {
          "base_uri": "https://localhost:8080/",
          "height": 0
        },
        "outputId": "8ae03cf8-ac9e-45db-a74b-584923c09ddf"
      },
      "outputs": [
        {
          "output_type": "execute_result",
          "data": {
            "text/plain": [
              "<IPython.core.display.Markdown object>"
            ],
            "text/markdown": "> Esses foram os usos do motor em Janeiro, por dia e modo:\n> \n> - 01/01:\n>   - Chave-Ligada: 8,83 horas\n>   - Marcha Lenta: 10,74 horas\n>   - Carga Baixa: 11,89 horas\n>   - Carga Média: 49,55 horas\n>   - Carga Alta: 50,28 horas\n> \n> - 02/01:\n>   - Chave-Ligada: 21,18 horas\n>   - Carga Baixa: 24,56 horas\n>   - Marcha Lenta: 44,26 horas\n>   - Carga Alta: 120,84 horas\n>   - Carga Média: 131,25 horas\n> \n> - 03/01:\n>   - Chave-Ligada: 19,48 horas\n>   - Carga Baixa: 27,26 horas\n>   - Marcha Lenta: 64,14 horas\n>   - Carga Alta: 157,72 horas\n>   - Carga Média: 167,22 horas\n> \n> - 04/01:\n>   - Chave-Ligada: 21,5 horas\n>   - Carga Baixa: 31,6 horas\n>   - Marcha Lenta: 74,14 horas\n>   - Carga Alta: 154,17 horas\n>   - Carga Média: 173,36 horas\n> \n> - 05/01:\n>   - Chave-Ligada: 19,8 horas\n>   - Carga Baixa: 33,17 horas\n>   - Marcha Lenta: 70,65 horas\n>   - Carga Alta: 163,77 horas\n>   - Carga Média: 203,14 horas\n> \n> - 06/01:\n>   - Chave-Ligada: 22,54 horas\n>   - Carga Baixa: 29,97 horas\n>   - Marcha Lenta: 53,74 horas\n>   - Carga Alta: 136,78 horas\n>   - Carga Média: 170,44 horas\n> \n> - 07/01:\n>   - Carga Baixa: 13,87 horas\n>   - Chave-Ligada: 15,61 horas\n>   - Marcha Lenta: 18,28 horas\n>   - Carga Alta: 75,73 horas\n>   - Carga Média: 76,11 horas\n> \n> - 08/01:\n>   - Chave-Ligada: 19,13 horas\n>   - Carga Baixa: 26,18 horas\n>   - Marcha Lenta: 74,69 horas\n>   - Carga Alta: 144,38 horas\n>   - Carga Média: 186 horas\n> \n> - 09/01:\n>   - Chave-Ligada: 29,28 horas\n>   - Carga Baixa: 30,46 horas\n>   - Marcha Lenta: 79,63 horas\n>   - Carga Alta: 174,77 horas\n>   - Carga Média: 191,17 horas\n> \n> - 10/01:\n>   - Chave-Ligada: 26,82 horas\n>   - Carga Baixa: 29,64 horas\n>   - Marcha Lenta: 83,22 horas\n>   - Carga Alta: 169,92 horas\n>   - Carga Média: 192,82 horas\n> \n> - 11/01:\n>   - Carga Baixa: 31,61 horas\n>   - Chave-Ligada: 31,81 horas\n>   - Marcha Lenta: 73,09 horas\n>   - Carga Alta: 179,38 horas\n>   - Carga Média: 194,4 horas\n> \n> - 12/01:\n>   - Chave-Ligada: 29,97 horas\n>   - Carga Baixa: 31,84 horas\n>   - Marcha Lenta: 71,11 horas\n>   - Carga Alta: 169,77 horas\n>   - Carga Média: 210,82 horas\n> \n> - 13/01:\n>   - Chave-Ligada: 20,03 horas\n>   - Carga Baixa: 30,18 horas\n>   - Marcha Lenta: 48,99 horas\n>   - Carga Alta: 134,16 horas\n>   - Carga Média: 161,03 horas\n> \n> - 14/01:\n>   - Chave-Ligada: 12,34 horas\n>   - Marcha Lenta: 16,93 horas\n>   - Carga Baixa: 21,23 horas\n>   - Carga Média: 86,83 horas\n>   - Carga Alta: 87,71 horas\n> \n> - 15/01:\n>   - Chave-Ligada: 26,66 horas\n>   - Carga Baixa: 30,97 horas\n>   - Marcha Lenta: 75,88 horas\n>   - Carga Alta: 159,39 horas\n>   - Carga Média: 201,21 horas\n> \n> - 16/01:\n>   - Chave-Ligada: 23,14 horas\n>   - Carga Baixa: 33,69 horas\n>   - Marcha Lenta: 88,06 horas\n>   - Carga Alta: 169,64 horas\n>   - Carga Média: 216,05 horas\n> \n> - 17/01:\n>   - Carga Baixa: 37,05 horas\n>   - Chave-Ligada: 40,18 horas\n>   - Marcha Lenta: 81,66 horas\n>   - Carga Alta: 163,52 horas\n>   - Carga Média: 216,51 horas\n> \n> - 18/01:\n>   - Chave-Ligada: 27,23 horas\n>   - Carga Baixa: 31,56 horas\n>   - Marcha Lenta: 83,43 horas\n>   - Carga Alta: 168,91 horas\n>   - Carga Média: 216,28 horas\n> \n> - 19/01:\n>   - Chave-Ligada: 22,97 horas\n>   - Carga Baixa: 35,23 horas\n>   - Marcha Lenta: 75,45 horas\n>   - Carga Alta: 159,66 horas\n>   - Carga Média: 205,6 horas\n> \n> - 20/01:\n>   - Carga Baixa: 30,09 horas\n>   - Chave-Ligada: 32,04 horas\n>   - Marcha Lenta: 48,89 horas\n>   - Carga Alta: 140,46 horas\n>   - Carga Média: 166,91 horas\n> \n> - 21/01:\n>   - Carga Baixa: 14,55 horas\n>   - Chave-Ligada: 16,31 horas\n>   - Marcha Lenta: 17,64 horas\n>   - Carga Média: 85,94 horas\n>   - Carga Alta: 93,2 horas\n> \n> - 22/01:\n>   - Chave-Ligada: 27,19 horas\n>   - Carga Baixa: 36,73 horas\n>   - Marcha Lenta: 67,18 horas\n>   - Carga Alta: 154,64 horas\n>   - Carga Média: 210,95 horas\n> \n> - 23/01:\n>   - Chave-Ligada: 24,73 horas\n>   - Carga Baixa: 41,29 horas\n>   - Marcha Lenta: 83,66 horas\n>   - Carga Alta: 167,17 horas\n>   - Carga Média: 224,63 horas\n> \n> - 24/01:\n>   - Chave-Ligada: 31,04 horas\n>   - Carga Baixa: 32,49 horas\n>   - Marcha Lenta: 81,49 horas\n>   - Carga Alta: 157,85 horas\n>   - Carga Média: 193,86 horas\n> \n> - 25/01:\n>   - Chave-Ligada: 34,09 horas\n>   - Carga Baixa: 34,26 horas\n>   - Marcha Lenta: 75,79 horas\n>   - Carga Alta"
          },
          "metadata": {},
          "execution_count": 37
        }
      ],
      "source": [
        "response = chain.invoke({\"question\": 'Como foi o uso do motor em Janeiro, por dia e modo?'})\n",
        "to_markdown(response)\n"
      ]
    },
    {
      "cell_type": "markdown",
      "metadata": {
        "id": "vxWLk2j2oI3X"
      },
      "source": [
        "## Validação (VES, EM e EX)"
      ]
    },
    {
      "cell_type": "code",
      "execution_count": 38,
      "metadata": {
        "id": "1spQMt4PoaBS"
      },
      "outputs": [],
      "source": [
        "\n",
        "test_questions = [\n",
        "    \"Qual o tempo médio de uso do motor por cliente em modo econômico?\",\n",
        "    \"Qual o contrato com o maior número de horas de motor ligado em carga média?\",\n",
        "    \"Qual o tempo médio de uso do motor em modo econômico para cada modelo de máquina?\",\n",
        "    \"Quais contratos tiveram o maior número de horas de operação em modo de alta potência em janeiro?\",\n",
        "    \"Qual o contrato que teve o maior consumo total de combustível em modo Marcha Lenta durante o mês de fevereiro?\",\n",
        "]\n",
        "\n",
        "ground_truth_queries = [\n",
        "    'SELECT Chassis.Cliente, ROUND(AVG(Telemetria.Valor), 2) AS Calculo FROM Telemetria JOIN Chassis ON Telemetria.Chassi = Chassis.Chassi WHERE Telemetria.Categoria = \"Uso da Configuração do Modo do Motor\" AND Telemetria.Serie = \"E\" GROUP BY Chassis.Cliente ORDER BY Calculo;',\n",
        "    'SELECT Chassis.Contrato, ROUND(SUM(Telemetria.Valor), 2) AS Calculo FROM Telemetria JOIN Chassis ON Telemetria.Chassi = Chassis.Chassi WHERE Telemetria.Categoria = \"Uso do Motor\" AND Telemetria.Serie = \"Carga Média\" GROUP BY Chassis.Contrato ORDER BY Calculo DESC;',\n",
        "    'SELECT Chassis.Modelo, ROUND(AVG(Telemetria.Valor), 2) AS Calculo FROM Telemetria JOIN Chassis ON Telemetria.Chassi = Chassis.Chassi WHERE Telemetria.Categoria = \"Uso da Configuração do Modo do Motor\" AND Telemetria.Serie = \"E\" GROUP BY Chassis.Modelo ORDER BY Chassis.Modelo;',\n",
        "    'SELECT DISTINCT Chassis.Contrato, ROUND(SUM(Telemetria.Valor), 2) AS Calculo FROM Telemetria JOIN Chassis ON Telemetria.Chassi = Chassis.Chassi WHERE Telemetria.Categoria = \"Uso da Configuração do Modo do Motor\" AND Telemetria.Serie = \"HP\" AND Telemetria.Data BETWEEN \"2024-01-01\" AND \"2024-01-31\" GROUP BY Chassis.Contrato ORDER BY Calculo DESC;',\n",
        "    'SELECT Chassis.Contrato, ROUND(SUM(Telemetria.Valor), 2) AS Calculo FROM Telemetria JOIN Chassis ON Telemetria.Chassi = Chassis.Chassi WHERE Telemetria.Categoria = \"Uso do Combustível do Motor\" AND Telemetria.Serie = \"Marcha Lenta\" AND Telemetria.Data BETWEEN \"2024-02-01\" AND \"2024-02-28\" GROUP BY Chassis.Contrato ORDER BY Calculo DESC;',\n",
        "]"
      ]
    },
    {
      "cell_type": "code",
      "execution_count": 39,
      "metadata": {
        "colab": {
          "base_uri": "https://localhost:8080/"
        },
        "id": "GGHEMsHfsSjD",
        "outputId": "fb72e8e7-d8a8-4000-a19d-74885ef1ebb1"
      },
      "outputs": [
        {
          "output_type": "stream",
          "name": "stdout",
          "text": [
            "SELECT Chassis.Cliente, ROUND(AVG(Telemetria.Valor), 2) AS Calculo FROM Telemetria JOIN Chassis ON Telemetria.Chassi = Chassis.Chassi WHERE Telemetria.Categoria = \"Uso da Configuração do Modo do Motor\" AND Telemetria.Serie = \"E\" GROUP BY Chassis.Cliente ORDER BY Calculo;\n",
            "SELECT Chassis.Contrato, ROUND(SUM(Telemetria.Valor), 2) AS Calculo FROM Telemetria JOIN Chassis ON Telemetria.Chassi = Chassis.Chassi WHERE Telemetria.Categoria = \"Uso do Motor\" AND Telemetria.Serie = \"Carga Média\" GROUP BY Chassis.Contrato ORDER BY Calculo DESC LIMIT 5;\n",
            "SELECT Chassis.Modelo, ROUND(AVG(Telemetria.Valor), 2) AS Calculo FROM Telemetria JOIN Chassis ON Telemetria.Chassi = Chassis.Chassi WHERE Telemetria.Categoria = \"Uso da Configuração do Modo do Motor\" AND Telemetria.Serie = \"E\" GROUP BY Chassis.Modelo ORDER BY Chassis.Modelo, Calculo;\n",
            "SELECT DISTINCT Chassis.Contrato, ROUND(SUM(Telemetria.Valor), 2) AS Calculo FROM Telemetria JOIN Chassis ON Telemetria.Chassi = Chassis.Chassi WHERE Telemetria.Categoria = \"Uso da Configuração do Modo do Motor\" AND Telemetria.Serie = \"HP\" AND Telemetria.Data BETWEEN '2024-01-01' AND '2024-01-31' GROUP BY Chassis.Contrato ORDER BY Calculo DESC;\n",
            "SELECT DISTINCT Chassis.Contrato, ROUND(SUM(Telemetria.Valor), 2) AS Calculo FROM Telemetria JOIN Chassis ON Telemetria.Chassi = Chassis.Chassi WHERE Telemetria.Categoria = \"Uso do Combustível do Motor\" AND Telemetria.Serie = \"Marcha Lenta\" AND Telemetria.Data BETWEEN \"2024-02-01 00:00:00\" AND \"2024-02-28 23:59:59\" GROUP BY Chassis.Contrato ORDER BY Calculo DESC;\n",
            "EM Média: 0.2\n",
            "EX Média: 1.0\n",
            "VES Média: 0.2\n"
          ]
        }
      ],
      "source": [
        "\n",
        "em_scores = []\n",
        "ex_scores = []\n",
        "ves_scores = []\n",
        "\n",
        "for question, ground_truth_query in zip(test_questions, ground_truth_queries):\n",
        "    response = write_query.invoke({\"question\": question})\n",
        "    print(response)\n",
        "\n",
        "    #dicionário ou string\n",
        "    if isinstance(response, dict):\n",
        "        predicted_query = response[\"query\"]\n",
        "    else:\n",
        "        predicted_query = response\n",
        "\n",
        "    #EM\n",
        "    em_score = 1 if predicted_query.strip() == ground_truth_query.strip() else 0\n",
        "    em_scores.append(em_score)\n",
        "\n",
        "    #EX\n",
        "    try:\n",
        "        predicted_results = db.run(predicted_query)\n",
        "        ground_truth_results = db.run(ground_truth_query)\n",
        "\n",
        "        # Comparar o início dos resultados\n",
        "        ex_score = 1 if predicted_results[:5] == ground_truth_results[:5] else 0\n",
        "        ex_scores.append(ex_score)\n",
        "    except Exception as e:\n",
        "        print(f\"Erro na execução da consulta: {e}\")\n",
        "        ex_scores.append(0)\n",
        "\n",
        "    #VES\n",
        "    ves_score = em_score * ex_score\n",
        "    ves_scores.append(ves_score)\n",
        "\n",
        "#Médias\n",
        "em_average = sum(em_scores) / len(em_scores)\n",
        "ex_average = sum(ex_scores) / len(ex_scores)\n",
        "ves_average = sum(ves_scores) / len(ves_scores)\n",
        "\n",
        "print(f\"EM Média: {em_average}\")\n",
        "print(f\"EX Média: {ex_average}\")\n",
        "print(f\"VES Média: {ves_average}\")"
      ]
    },
    {
      "cell_type": "markdown",
      "metadata": {
        "id": "9vKvW7ZAtO8R"
      },
      "source": [
        "EM: Correspondência Exata da Query.\n",
        "\n",
        "EX: Correspondência Aproximada da Consulta."
      ]
    },
    {
      "cell_type": "markdown",
      "metadata": {
        "id": "nkYfKzE86_wt"
      },
      "source": [
        "#** Interface Gradio**"
      ]
    },
    {
      "cell_type": "code",
      "execution_count": 72,
      "metadata": {
        "id": "4qthIBB37D53",
        "colab": {
          "base_uri": "https://localhost:8080/",
          "height": 611
        },
        "outputId": "fba90c08-384f-44ed-de0c-3c6a86c4233f"
      },
      "outputs": [
        {
          "output_type": "stream",
          "name": "stdout",
          "text": [
            "Colab notebook detected. To show errors in colab notebook, set debug=True in launch()\n",
            "* Running on public URL: https://add275be46a48df038.gradio.live\n",
            "\n",
            "This share link expires in 72 hours. For free permanent hosting and GPU upgrades, run `gradio deploy` from the terminal in the working directory to deploy to Hugging Face Spaces (https://huggingface.co/spaces)\n"
          ]
        },
        {
          "output_type": "display_data",
          "data": {
            "text/plain": [
              "<IPython.core.display.HTML object>"
            ],
            "text/html": [
              "<div><iframe src=\"https://add275be46a48df038.gradio.live\" width=\"100%\" height=\"500\" allow=\"autoplay; camera; microphone; clipboard-read; clipboard-write;\" frameborder=\"0\" allowfullscreen></iframe></div>"
            ]
          },
          "metadata": {}
        },
        {
          "output_type": "execute_result",
          "data": {
            "text/plain": []
          },
          "metadata": {},
          "execution_count": 72
        }
      ],
      "source": [
        "import gradio as gr\n",
        "# Interface do chatbot\n",
        "def chatbot(user_input):\n",
        "  response = chain.invoke({\"question\": user_input})\n",
        "  return response\n",
        "\n",
        "iface = gr.Interface(\n",
        "  fn=chatbot,\n",
        "  inputs=gr.Textbox(lines=3, placeholder=\"Digite sua pergunta\"),\n",
        "  outputs=gr.Textbox(lines=5),\n",
        "  title=\"Consulta Telemetria\",\n",
        ")\n",
        "\n",
        "iface.launch(share=True)"
      ]
    },
    {
      "cell_type": "markdown",
      "source": [
        "#Agente"
      ],
      "metadata": {
        "id": "nHEr4IYObZ8j"
      }
    },
    {
      "cell_type": "markdown",
      "source": [
        "##Tools"
      ],
      "metadata": {
        "id": "V7qx4qJxbk-p"
      }
    },
    {
      "cell_type": "code",
      "source": [
        "from typing import List, Union\n",
        "from langchain.agents import Tool\n",
        "from langchain.prompts import ChatPromptTemplate\n",
        "from langchain.output_parsers import RegexParser\n",
        "from langchain.schema import AgentAction, AgentFinish\n",
        "\n",
        "llm_agente = ChatGoogleGenerativeAI(model=\"gemini-1.5-flash\")\n",
        "\n",
        "# Definindo as tools acessadas pelo Agente\n",
        "tools = [\n",
        "      Tool(\n",
        "        name=\"Text_to_SQL\",\n",
        "        func=chain.invoke,\n",
        "        description=\"\"\"Útil para acessar o banco de dados sobre uso e configuração de motores, combustível, chassis ou contratos.\n",
        "Ideal para perguntas em que a recuperação, filtragem ou análise de dados via SQL seja útil.\n",
        "Não é adequado para resumir, contar diretamente ou para lógica complexa fora das capacidades do SQL.\n",
        "Não é adequado para responder perguntas de temas gerais, como esportes e política.\n",
        "Use a pergunta completa como entrada para garantir a geração precisa da consulta SQL.\"\"\"\n",
        "    )]"
      ],
      "metadata": {
        "id": "quyYE60obfJV"
      },
      "execution_count": 41,
      "outputs": []
    },
    {
      "cell_type": "markdown",
      "source": [
        "##Prompt"
      ],
      "metadata": {
        "id": "VDddZqtEbm75"
      }
    },
    {
      "cell_type": "code",
      "source": [
        "prompt_agente = ChatPromptTemplate.from_messages([\n",
        "    (\"system\", \"\"\"Você é um analista de dados. Use as seguintes tools: {tools}\n",
        "\n",
        "    Para usar uma ferramenta, use o seguinte formato:\n",
        "    Action: <nome_da_ferramenta>\n",
        "    Input: <entrada_para_a_ferramenta>#\n",
        "\n",
        "    Não use quebras de linha em 'Action' ou em 'Input'!\n",
        "    < Se necessário, utilize a tool Text_to_SQL para acessar o banco de dados. Não modifique a pergunta do usuário.\n",
        "    Se a consulta sql não for necessária, não acesse a tool Text_to_SQL e responda como uma conversa casual.>\n",
        "  -------------------------------------------------------------------------------\n",
        "    Se você tiver uma resposta final, use o seguinte formato:\n",
        "    Final Answer: <resposta_final>\n",
        "    \"\"\"),\n",
        "      (\"human\", \"{input}\"),\n",
        "      (\"ai\", \"\"\"\n",
        "      Histórico de chamas de ferramentas e suas respectivas respostas:\n",
        "\n",
        "      {agent_scratchpad}\"\"\"),\n",
        "])\n",
        "\n",
        "\n",
        "# Parser de chamada de Tools\n",
        "output_parser = RegexParser(\n",
        "    regex=r\"Action: (\\w+)\\nInput: (.*)\",\n",
        "    output_keys=[\"action\", \"input\"],\n",
        ")\n",
        "\n",
        "def agent(inputs: dict) -> Union[AgentAction, AgentFinish]:\n",
        "    prompt_value = prompt_agente.format_prompt(\n",
        "        tools=\"\\n\".join([f\"{tool.name}: {tool.description}\\n expected input format: {tool.args_schema}\" for tool in tools]),\n",
        "        input=inputs[\"input\"],\n",
        "        agent_scratchpad=inputs.get(\"agent_scratchpad\", \"\")\n",
        "    )\n",
        "    output = llm_agente.invoke(prompt_value.to_string()).content\n",
        "\n",
        "    if \"Final Answer:\" in output:\n",
        "        return AgentFinish(return_values={\"output\": output.split(\"Final Answer:\")[-1].strip()}, log=output)\n",
        "\n",
        "    try:\n",
        "        parsed_output = output_parser.parse(output)\n",
        "        return AgentAction(tool=parsed_output[\"action\"], tool_input={\"question\": parsed_output[\"input\"]} , log=output)\n",
        "    except Exception:\n",
        "        return AgentFinish(return_values={\"output\": output}, log=output)\n",
        "\n",
        "def run_agent_loop(input_query: str, tools: List[Tool], max_iterations: int = 4) -> str:\n",
        "    iterations = 0\n",
        "    agent_scratchpad = \"\"\n",
        "\n",
        "    while iterations < max_iterations:\n",
        "        result = agent({\"input\": input_query, \"agent_scratchpad\": agent_scratchpad})\n",
        "\n",
        "        if isinstance(result, AgentFinish):\n",
        "            return result.return_values[\"output\"]\n",
        "\n",
        "        if isinstance(result, AgentAction):\n",
        "          tool = None\n",
        "          for t in tools:\n",
        "            if t.name == result.tool:\n",
        "              tool = t\n",
        "              break\n",
        "\n",
        "          if tool:\n",
        "              print(f\"LOG: Chamando a tool {result.tool} com o input '{result.tool_input}'\")\n",
        "              tool_result = tool.func(result.tool_input)\n",
        "              print(f\"LOG: Resposta da tool {result.tool}: {tool_result}\")\n",
        "              agent_scratchpad += f\"\\nAction: {result.tool}\\nInput: {result.tool_input}\\nResult: {tool_result}\\n\"\n",
        "          else:\n",
        "              raise ValueError(f\"Tool não encontrada: {result.tool}\")\n",
        "\n",
        "        iterations += 1\n",
        "\n",
        "    return \"Alcançou o limite de iterações sem obter uma resposta\""
      ],
      "metadata": {
        "id": "NEzhzi5LbqKH"
      },
      "execution_count": 63,
      "outputs": []
    },
    {
      "cell_type": "markdown",
      "source": [
        "##Resposta"
      ],
      "metadata": {
        "id": "9jhW5ZCzeOg0"
      }
    },
    {
      "cell_type": "code",
      "source": [
        "input_query = 'Qual foi o uso do combustível do chassi 020655 em janeiro por dia e por série?'\n",
        "result = run_agent_loop(input_query, tools)\n",
        "print(\"Resposta: \", result)"
      ],
      "metadata": {
        "id": "89QXU7FdeQDN",
        "colab": {
          "base_uri": "https://localhost:8080/"
        },
        "outputId": "4bf02553-55ae-4396-c121-714e76e138a0"
      },
      "execution_count": 55,
      "outputs": [
        {
          "output_type": "stream",
          "name": "stdout",
          "text": [
            "LOG: Chamando a tool Text_to_SQL com o input '{'question': 'Qual foi o uso do combustível do chassi 020655 em janeiro por dia e por série?'}'\n",
            "LOG: Resposta da tool Text_to_SQL: Esses são os usos de combustível do chassi 020655 em janeiro, por dia e por série:\n",
            "- 02/01/2024:\n",
            "  - Chave-Ligada: 0,00 l\n",
            "  - Carga Alta: 79,14 l\n",
            "  - Carga Média: 21,53 l\n",
            "  - Marcha Lenta: 1,92 l\n",
            "- 03/01/2024:\n",
            "  - Carga Alta: 98,83 l\n",
            "  - Carga Média: 2,47 l\n",
            "  - Carga Baixa: 2,06 l\n",
            "- 04/01/2024:\n",
            "  - Carga Alta: 4,92 l\n",
            "  - Carga Média: 5,14 l\n",
            "  - Carga Baixa: 0,72 l\n",
            "  - Marcha Lenta: 4,38 l\n",
            "- 05/01/2024:\n",
            "  - Carga Alta: 4,34 l\n",
            "  - Carga Média: 2,4 l\n",
            "  - Carga Baixa: 0,47 l\n",
            "  - Marcha Lenta: 1,64 l\n",
            "- 09/01/2024:\n",
            "  - Carga Alta: 0,01 l\n",
            "  - Carga Média: 0,28 l\n",
            "  - Carga Baixa: 0,0 l\n",
            "  - Marcha Lenta: 0,16 l\n",
            "- 10/01/2024:\n",
            "  - Chave-Ligada: 0,0 l\n",
            "  - Carga Alta: 0,0 l\n",
            "  - Carga Média: 0,01 l\n",
            "  - Carga Baixa: 0,0 l\n",
            "  - Marcha Lenta: 0,02 l\n",
            "- 11/01/2024:\n",
            "  - Chave-Ligada: 0,0 l\n",
            "  - Carga Alta: 0,18 l\n",
            "  - Carga Média: 0,96 l\n",
            "  - Carga Baixa: 0,34 l\n",
            "  - Marcha Lenta: 0,03 l\n",
            "- 12/01/2024:\n",
            "  - Chave-Ligada: 0,0 l\n",
            "  - Carga Alta: 0,0 l\n",
            "  - Carga Média: 1,65 l\n",
            "  - Carga Baixa: 0,29 l\n",
            "  - Marcha Lenta: 0,19 l\n",
            "- 17/01/2024:\n",
            "  - Chave-Ligada: 0,0 l\n",
            "  - Carga Alta: 0,66 l\n",
            "  - Carga Média: 2,29 l\n",
            "  - Carga Baixa: 0,61 l\n",
            "  - Marcha Lenta: 0,93 l\n",
            "- 29/01/2024:\n",
            "  - Chave-Ligada: 0,0 l\n",
            "  - Carga Alta: 0,0 l\n",
            "  - Carga Média: 0,01 l\n",
            "  - Carga Baixa: 0,0 l\n",
            "  - Marcha Lenta: 0,05 l\n",
            "\n",
            "SQL Query:\n",
            "```sql\n",
            "SELECT ROUND(Valor, 2) AS Calculo, UnidadeMedida, Serie, DATE(Data) AS Data\n",
            "FROM Telemetria\n",
            "WHERE Chassi = 20655\n",
            "AND Categoria = \"Uso do Combustível do Motor\"\n",
            "AND Data LIKE \"2024-01%\";\n",
            "```\n",
            "Resposta:  O resultado da consulta SQL forneceu um detalhamento do uso de combustível para o chassi 020655 em janeiro de 2024, separado por dia e série.  A resposta inclui os valores de consumo para cada série (Chave-Ligada, Carga Alta, Carga Média, Carga Baixa, Marcha Lenta) em cada dia em que houve registro.  Observe que alguns dias não apresentam registros para todas as séries.\n"
          ]
        }
      ]
    },
    {
      "cell_type": "markdown",
      "metadata": {
        "id": "8y8tJIXy_fD7"
      },
      "source": [
        "#Próximos Passos\n"
      ]
    },
    {
      "cell_type": "markdown",
      "source": [
        "## Gráfico - Chains\n",
        "- Dict: Formatar em dicionário\n",
        "- Plot: Dicionário -> Gráfico"
      ],
      "metadata": {
        "id": "HqI1hEX1aRKM"
      }
    },
    {
      "cell_type": "code",
      "execution_count": null,
      "metadata": {
        "id": "GztqM9BSwAuA"
      },
      "outputs": [],
      "source": [
        "from langchain.chains import LLMChain\n",
        "\n",
        "dict_prompt = PromptTemplate.from_template(\n",
        "\"\"\"You are an expert in Python and dictionaries.\n",
        "Given the user question, SQL query and SQL result:\n",
        "\n",
        "1. Build a data dictionary from the SQL result. The data keys must be date value and the aplicable categories: 'Modo Econômico', 'Modo Padrão', 'Modo de Alta Potência' or 'Marcha Lenta', 'Carga Alta', etc. Example:\n",
        "Pergunta: 'Qual foi o uso da configuração motores do chassi 020655 por dia e por série?'\n",
        "data = {{'Data': ['2024-01-02', '2024-01-03', '2024-01-04', '2024-01-05', '2024-01-09', '2024-01-10', '2024-01-11', '2024-01-12', '2024-01-17', '2024-01-29','2024-02-08'],\n",
        "'Modo Econômico': [0.1, 0.05, 0.06, 0.09, 0.01, 0.01, 0.03, 0.01, 0.04, 0.04],\n",
        "'Modo Padrão': [1.58, 1.98, 3.2, 1.38, 0.09, 0.01, 0.02, 0.13, 0.63, 0.03],\n",
        "'Modo de Alta Potência': [6.59, 8.32, 0.46, 0.38, 0, 0, 0.02, 0, 0.06, 0,0.17]}}\n",
        "\n",
        "Example2:\n",
        "\n",
        "data = {{\n",
        "    'Data': ['2024-01-02', '2024-01-03', '2024-01-04', '2024-01-05', '2024-01-06', '2024-01-07', '2024-01-08', '2024-01-09','2024-02-05'],\n",
        "    'Marcha Lenta': [0.58, 0.04, 0.31, 2.3, 1.37, 0.25, 2.74, 4.55, 4.22],\n",
        "    'Carga Alta': [0.44, 0.08, 0.18, 1.73, 1.01, 0.09, 2.03, 2.65, 2.50],\n",
        "    'Carga Baixa': [0.12, 0.03, 0.08, 0.39, 0.2, 0.01, 0.26, 0.34, 0.50],\n",
        "    'Chave-Ligada': [0.04, 2.96, 0.66, 0.12, 0.07, 0.03, 0.14, 2.19, 2.19],\n",
        "    'Carga Média': [0.38, 0.04, 0.33, 1.2, 0.7, 0.05, 1.49, 2.07,1.70]\n",
        "}}\n",
        "\n",
        "Question: {question}\n",
        "SQL Query: {query}\n",
        "SQL Result: {result}\n",
        "Answer:\n",
        "\"\"\")\n",
        "\n",
        "dict_chain = (\n",
        "    RunnablePassthrough.assign(query=write_query).assign(\n",
        "        result=itemgetter(\"query\") | execute_query\n",
        "    )\n",
        "    | dict_prompt\n",
        "    | llm\n",
        "    | StrOutputParser()\n",
        "\n",
        ")\n"
      ]
    },
    {
      "cell_type": "code",
      "execution_count": null,
      "metadata": {
        "colab": {
          "base_uri": "https://localhost:8080/"
        },
        "id": "QI9gVMCwQ8dp",
        "outputId": "819ec325-2789-4ea2-f437-744c89a00c7e"
      },
      "outputs": [
        {
          "output_type": "stream",
          "name": "stdout",
          "text": [
            "```python\n",
            "data = {\n",
            "    'Data': ['2024-01-02', '2024-01-03', '2024-01-04', '2024-01-05', '2024-01-09', '2024-01-10', '2024-01-11', '2024-01-12', '2024-01-17', '2024-01-29'],\n",
            "    'Marcha Lenta': [1.92, 2.47, 4.38, 1.64, 0.16, 0.02, 0.03, 0.19, 0.93, 0.05],\n",
            "    'Carga Alta': [79.14, 98.83, 4.92, 4.34, 0.01, 0.0, 0.18, 0.0, 0.66, 0.0],\n",
            "    'Carga Baixa': [1.21, 2.06, 0.72, 0.47, 0.0, 0.0, 0.34, 0.29, 0.61, 0.0],\n",
            "    'Chave-Ligada': [0.0, 0.0, 0.0, 0.0, 0.0, 0.0, 0.0, 0.0, 0.0, 0.0],\n",
            "    'Carga Média': [12.72, 21.53, 5.14, 2.4, 0.28, 0.01, 0.96, 1.65, 2.29, 0.01]\n",
            "}\n",
            "```\n"
          ]
        }
      ],
      "source": [
        "response = dict_chain.invoke({\"question\":'Qual foi o uso dos combustivel do chassi 020655 em janeiro por dia e por série? Responda à pergunta e plote um gráfico'})\n",
        "print(response)\n",
        "#exec(response)"
      ]
    },
    {
      "cell_type": "code",
      "source": [
        "plot_prompt_1 = PromptTemplate.from_template(\n",
        "\"\"\"You are an expert in data visualization and graph plotting.\n",
        "Given the user question, SQL query and SQL result:\n",
        "\n",
        "1. Import the necessary libraries, as pandas as pd and matplotlib.pyplot as plt\n",
        "\n",
        "2. Build a data dictionary from the SQL result. The data keys must be date value and the aplicable categories: 'Modo Econômico', 'Modo Padrão', 'Modo de Alta Potência' or 'Marcha Lenta', 'Carga Alta', etc. Example:\n",
        "Pergunta: 'Qual foi o uso da configuração motores do chassi 020655 por dia e por série?'\n",
        "data = {{'Data': ['2024-01-02', '2024-01-03', '2024-01-04', '2024-01-05', '2024-01-09', '2024-01-10', '2024-01-11', '2024-01-12', '2024-01-17', '2024-01-29','2024-02-08'],\n",
        "'Modo Econômico': [0.1, 0.05, 0.06, 0.09, 0.01, 0.01, 0.03, 0.01, 0.04, 0.04],\n",
        "'Modo Padrão': [1.58, 1.98, 3.2, 1.38, 0.09, 0.01, 0.02, 0.13, 0.63, 0.03],\n",
        "'Modo de Alta Potência': [6.59, 8.32, 0.46, 0.38, 0, 0, 0.02, 0, 0.06, 0,0.17]}}\n",
        "\n",
        "Example2:\n",
        "\n",
        "data = {{\n",
        "    'Data': ['2024-01-02', '2024-01-03', '2024-01-04', '2024-01-05', '2024-01-06', '2024-01-07', '2024-01-08', '2024-01-09','2024-02-05'],\n",
        "    'Marcha Lenta': [0.58, 0.04, 0.31, 2.3, 1.37, 0.25, 2.74, 4.55, 4.22],\n",
        "    'Carga Alta': [0.44, 0.08, 0.18, 1.73, 1.01, 0.09, 2.03, 2.65, 2.50],\n",
        "    'Carga Baixa': [0.12, 0.03, 0.08, 0.39, 0.2, 0.01, 0.26, 0.34, 0.50],\n",
        "    'Chave-Ligada': [0.04, 2.96, 0.66, 0.12, 0.07, 0.03, 0.14, 2.19, 2.19],\n",
        "    'Carga Média': [0.38, 0.04, 0.33, 1.2, 0.7, 0.05, 1.49, 2.07,1.70]\n",
        "}}\n",
        "\n",
        "3. Transform the data dictionary into a pandas DataFrame with columns matching those in the SQL result. Example:\n",
        "df = pd.DataFrame(data)\n",
        "df = df.set_index('Data')\n",
        "\n",
        "4. Generate a graph using matplotlib that best visualizes the data to address the user’s question. Choose the most suitable type of graph (e.g., bar chart, line chart, etc.). Example:\n",
        "df.plot(kind='line', stacked=False)\n",
        "\n",
        "5. Label the graph with an informative title, axes labels, and include a legend if relevant. Example:\n",
        "plt.xlabel('Data')\n",
        "plt.xticks(rotation=45)\n",
        "plt.ylabel('Tempo (horas)')\n",
        "plt.title('Uso do Motor 020655 em Janeiro')\n",
        "plt.show()\n",
        "\n",
        "### Requirements\n",
        "- The x-axis label should be 'Data' (date), and the y-axis should represent categories like 'uso do motor', 'uso do combustível do motor', or 'uso da configuração do motor'.\n",
        "- Ensure all data is represented in the graph.\n",
        "- Don't show the time, only the date.\n",
        "- Unless the user specifies other type of graph, use kind='line'\n",
        "\n",
        "**Only output the pandas DataFrame and matplotlib Python code without any markdown formatting or comments.**\n",
        "The first characters of the answer must be 'import'\n",
        "\n",
        "Question: {question}\n",
        "SQL Query: {query}\n",
        "SQL Result: {result}\n",
        "Answer:\n",
        "\"\"\"\n",
        ")\n",
        "\n",
        "\n",
        "plot_chain_1 = (\n",
        "    RunnablePassthrough.assign(query=write_query).assign(\n",
        "        result=itemgetter(\"query\") | execute_query\n",
        "    )\n",
        "    | plot_prompt_1\n",
        "    | llm\n",
        "    | StrOutputParser()\n",
        ")"
      ],
      "metadata": {
        "id": "Vf6tyJ1XdlEz"
      },
      "execution_count": null,
      "outputs": []
    },
    {
      "cell_type": "code",
      "execution_count": null,
      "metadata": {
        "id": "WDyk2ra6RdAJ"
      },
      "outputs": [],
      "source": [
        "from langchain_core.runnables import RunnableSequence\n",
        "\n",
        "plot_prompt = PromptTemplate.from_template(\n",
        "\"\"\"You are an expert in data visualization and graph plotting.\n",
        "\n",
        "Given a dictionary:\n",
        "\n",
        "1. Import the necessary libraries, as pandas as pd and matplotlib.pyplot as plt\n",
        "\n",
        "2. Transform the data dictionary into a pandas DataFrame with columns matching those in the SQL result.\n",
        "3. Generate a graph using matplotlib that best visualizes the data to address the user’s question. Choose the most suitable type of graph (e.g., bar chart, line chart, etc.).\n",
        "4. Label the graph with an informative title, axes labels, and include a legend if relevant. Example:\n",
        "\n",
        "For example:\n",
        "\n",
        "dict: data = {{\n",
        "    'Data': ['2023-01-01', '2023-01-02', '2023-01-03', '2023-01-04', '2023-01-05'],\n",
        "    'Uso do motor': [10, 12, 15, 18, 20],\n",
        "    'Uso do combustível do motor': [5, 6, 7, 8, 9],\n",
        "    'Uso da configuração do motor': [2, 3, 4, 5, 6]\n",
        "}}\n",
        "\n",
        "Answer:\n",
        "import pandas as pd\n",
        "import matplotlib.pyplot as plt\n",
        "\n",
        "data = {{\n",
        "    'Data': ['2023-01-01', '2023-01-02', '2023-01-03', '2023-01-04', '2023-01-05'],\n",
        "    'Uso do motor': [10, 12, 15, 18, 20],\n",
        "    'Uso do combustível do motor': [5, 6, 7, 8, 9],\n",
        "    'Uso da configuração do motor': [2, 3, 4, 5, 6]\n",
        "}}\n",
        "\n",
        "df = pd.DataFrame(data)\n",
        "df = df.set_index('Data')\n",
        "\n",
        "df.plot(kind='line', stacked=False)\n",
        "plt.xlabel('Data')\n",
        "plt.xticks(rotation=45)\n",
        "plt.ylabel('Tempo (horas)')\n",
        "plt.title('Uso do Motor 020655 em Janeiro')\n",
        "plt.show()\n",
        "\n",
        "### Requirements\n",
        "- The x-axis label should be 'Data' (date), and the y-axis should represent categories like 'uso do motor', 'uso do combustível do motor', or 'uso da configuração do motor'.\n",
        "- Ensure all data is represented in the graph.\n",
        "- Don't show the time, only the date.\n",
        "- Unless the user specifies other type of graph, use kind='line'\n",
        "\n",
        "**Only output the necessary Python script to plot the graph without any markdown formatting, comments, or additional structures like dictionaries.  The first characters of the answer must be 'import'.**\n",
        "\n",
        "Lets think step by step.\n",
        "\n",
        "dict:{dict}\n",
        "Answer:\n",
        "\"\"\"\n",
        ")\n",
        "\n",
        "plot_chain=plot_prompt | llm | StrOutputParser()"
      ]
    },
    {
      "cell_type": "code",
      "source": [
        "data = {'Data': ['2024-01-02', '2024-01-03'],\n",
        "        'Modo Econômico': [0.1, 0.05],\n",
        "        'Modo Padrão': [1.58, 1.98]}\n",
        "\n",
        "response = plot_chain.invoke({'dict': data})\n",
        "print(response)\n",
        "#exec(response) # Para plotar o gráfico"
      ],
      "metadata": {
        "id": "SZ_3rA4_hiAI",
        "colab": {
          "base_uri": "https://localhost:8080/"
        },
        "outputId": "373540be-5f21-4c19-89c7-667e2b7f9515"
      },
      "execution_count": null,
      "outputs": [
        {
          "output_type": "stream",
          "name": "stdout",
          "text": [
            "import pandas as pd\n",
            "import matplotlib.pyplot as plt\n",
            "\n",
            "df = pd.DataFrame(data)\n",
            "df.plot(x='Data', kind='bar')\n",
            "plt.ylabel('Tempo (horas)')\n",
            "plt.show()\n"
          ]
        }
      ]
    },
    {
      "cell_type": "markdown",
      "metadata": {
        "id": "nluVXc7To_xT"
      },
      "source": [
        "##Agente\n"
      ]
    },
    {
      "cell_type": "markdown",
      "metadata": {
        "id": "ydQlERZbl5oN"
      },
      "source": [
        "##Tools description SQL"
      ]
    },
    {
      "cell_type": "code",
      "execution_count": null,
      "metadata": {
        "id": "jiQashJypI_5"
      },
      "outputs": [],
      "source": [
        "from typing import List, Union\n",
        "from langchain.agents import Tool\n",
        "from langchain.prompts import ChatPromptTemplate\n",
        "from langchain.output_parsers import RegexParser\n",
        "from langchain.schema import AgentAction, AgentFinish\n",
        "\n",
        "llm_agente = ChatGoogleGenerativeAI(model=\"gemini-1.5-flash\")\n",
        "\n",
        "# Definindo as tools acessadas pelo Agente\n",
        "tools = [\n",
        "      Tool(\n",
        "        name=\"Text_to_SQL\",\n",
        "        func=chain.invoke,\n",
        "        description=\"\"\"Útil para acessar o banco de dados sobre motores.\n",
        "Ideal para perguntas em que a recuperação, filtragem ou análise de dados via SQL seja útil.\n",
        "Não é adequado para resumir, contar diretamente ou para lógica complexa fora das capacidades do SQL.\n",
        "Use a pergunta completa como entrada para garantir a geração precisa da consulta SQL.\"\"\"\n",
        "    ),\n",
        "\n",
        "    Tool(\n",
        "        name=\"dict\",\n",
        "        func=dict_chain.invoke,\n",
        "        description='''Apenas copie a saída da dict_chain.invoke.\n",
        "        Útil quando você precisa converter uma consulta de sql em um dicionário.\n",
        "        Utilize quando a pergunta do usuário incluir \"gere um gráfico\".\n",
        "        A saída deve ser idêntica ao resultado da chain_graph.invoke'''\n",
        "        ),\n",
        "    Tool(\n",
        "        name=\"plot\",\n",
        "        func=plot_chain.invoke,\n",
        "        description='''Apenas copie a saída da plot_chain.invoke.\n",
        "        Útil quando você precisa converter um dicionário em um código para geração de gráfico em python.\n",
        "        Utilize quando a pergunta do usuário incluir \"gere um gráfico\".\n",
        "        A saída deve ser idêntica ao resultado da plot_chain.invoke'''\n",
        "        )\n",
        "]"
      ]
    },
    {
      "cell_type": "markdown",
      "metadata": {
        "id": "s__uxp6dl-Fp"
      },
      "source": [
        "##Prompt Agente"
      ]
    },
    {
      "cell_type": "code",
      "execution_count": null,
      "metadata": {
        "id": "POab8-8TsCvr"
      },
      "outputs": [],
      "source": [
        "prompt_agente = ChatPromptTemplate.from_messages([\n",
        "    (\"system\", \"\"\"Você é um analista de dados. Utilize as tools: {tools}\n",
        "\n",
        "    Para usar uma ferramenta, use o seguinte formato:\n",
        "    Action: <nome_da_ferramenta>\n",
        "    Input: <entrada_para_a_ferramenta>\n",
        "\n",
        "    Não use quebras de linha em 'Action' ou em 'Input'!\n",
        "    < Utilize a tool Text_to_SQL para acessar o banco de dados. Não modifique a pergunta do usuário.\n",
        "    Depois, use a tool dict para transformar a consulta em um dicionário.\n",
        "    Em seguida, use a tool plot para transformar o dicionário em um gráfico.\n",
        "    \"\"\"),\n",
        "      (\"human\", \"{input}\"),\n",
        "      (\"ai\", \"\"\"\n",
        "      Histórico de chamas de ferramentas e suas respectivas respostas:\n",
        "\n",
        "      {agent_scratchpad}\"\"\"),\n",
        "])\n",
        "\n",
        "# Parser de chamada de Tools\n",
        "output_parser = RegexParser(\n",
        "    regex=r\"Action: (\\w+)\\nInput: (.*)\",\n",
        "    output_keys=[\"action\", \"input\"],\n",
        ")\n",
        "\n",
        "def agent(inputs: dict) -> Union[AgentAction, AgentFinish]:\n",
        "    prompt_value = prompt_agente.format_prompt(\n",
        "        tools=\"\\n\".join([f\"{tool.name}: {tool.description}\\n expected input format: {tool.args_schema}\" for tool in tools]),\n",
        "        input=inputs[\"input\"],\n",
        "        agent_scratchpad=inputs.get(\"agent_scratchpad\", \"\")\n",
        "    )\n",
        "    output = llm_agente.invoke(prompt_value.to_string()).content\n",
        "\n",
        "    if \"Final Answer:\" in output:\n",
        "        return AgentFinish(return_values={\"output\": output.split(\"Final Answer:\")[-1].strip()}, log=output)\n",
        "\n",
        "    try:\n",
        "        parsed_output = output_parser.parse(output)\n",
        "        return AgentAction(tool=parsed_output[\"action\"], tool_input={\"question\": parsed_output[\"input\"]} , log=output)\n",
        "    except Exception:\n",
        "        return AgentFinish(return_values={\"output\": output}, log=output)\n",
        "\n",
        "def run_agent_loop(input_query: str, tools: List[Tool], max_iterations: int = 4) -> str:\n",
        "    iterations = 0\n",
        "    agent_scratchpad = \"\"\n",
        "\n",
        "    while iterations < max_iterations:\n",
        "        result = agent({\"input\": input_query, \"agent_scratchpad\": agent_scratchpad})\n",
        "\n",
        "        if isinstance(result, AgentFinish):\n",
        "            return result.return_values[\"output\"]\n",
        "\n",
        "        if isinstance(result, AgentAction):\n",
        "          tool = None\n",
        "          for t in tools:\n",
        "            if t.name == result.tool:\n",
        "              tool = t\n",
        "              break\n",
        "\n",
        "          if tool:\n",
        "              print(f\"LOG: Chamando a tool {result.tool} com o input '{result.tool_input}'\")\n",
        "              tool_result = tool.func(result.tool_input)\n",
        "              print(f\"LOG: Resposta da tool {result.tool}: {tool_result}\")\n",
        "              agent_scratchpad += f\"\\nAction: {result.tool}\\nInput: {result.tool_input}\\nResult: {tool_result}\\n\"\n",
        "          else:\n",
        "              raise ValueError(f\"Tool não encontrada: {result.tool}\")\n",
        "\n",
        "        iterations += 1\n",
        "\n",
        "    return \"Alcançou o limite de iterações sem obter uma resposta\""
      ]
    },
    {
      "cell_type": "markdown",
      "metadata": {
        "id": "iuF6B9-oiNnB"
      },
      "source": [
        "##Resposta Agente"
      ]
    },
    {
      "cell_type": "code",
      "execution_count": null,
      "metadata": {
        "id": "Z5qTEOs4pPVp",
        "colab": {
          "base_uri": "https://localhost:8080/"
        },
        "outputId": "69fc6a09-2387-476d-a62e-b1146b897e42"
      },
      "outputs": [
        {
          "output_type": "stream",
          "name": "stdout",
          "text": [
            "Resposta:  Action:Text_to_SQL\n",
            "Input:para o chassi 020655, qual foi o uso do motor em cada configuração janeiro, por dia e por série?\n",
            "\n",
            "Action:dict\n",
            "Input:```sql\n",
            "-- A consulta SQL a seguir assume que você tem uma tabela chamada 'uso_motor' com as seguintes colunas:\n",
            "-- chassi, data, configuracao, serie, uso_motor\n",
            "SELECT\n",
            "  data,\n",
            "  configuracao,\n",
            "  serie,\n",
            "  SUM(uso_motor) AS total_uso_motor\n",
            "FROM\n",
            "  uso_motor\n",
            "WHERE\n",
            "  chassi = '020655'\n",
            "  AND strftime('%Y-%m', data) = '2024-01' -- Assumindo que a data é um campo de texto no formato 'AAAA-MM-DD'\n",
            "GROUP BY\n",
            "  data,\n",
            "  configuracao,\n",
            "  serie\n",
            "ORDER BY\n",
            "  data,\n",
            "  configuracao,\n",
            "  serie;\n",
            "\n",
            "```\n",
            "\n",
            "Action:plot\n",
            "Input:```json\n",
            "[\n",
            "  {\n",
            "    \"data\": \"2024-01-01\",\n",
            "    \"configuracao\": \"config1\",\n",
            "    \"serie\": \"serieA\",\n",
            "    \"total_uso_motor\": 10\n",
            "  },\n",
            "  {\n",
            "    \"data\": \"2024-01-01\",\n",
            "    \"configuracao\": \"config1\",\n",
            "    \"serie\": \"serieB\",\n",
            "    \"total_uso_motor\": 15\n",
            "  },\n",
            "  {\n",
            "    \"data\": \"2024-01-01\",\n",
            "    \"configuracao\": \"config2\",\n",
            "    \"serie\": \"serieA\",\n",
            "    \"total_uso_motor\": 20\n",
            "  },\n",
            "  {\n",
            "    \"data\": \"2024-01-02\",\n",
            "    \"configuracao\": \"config1\",\n",
            "    \"serie\": \"serieA\",\n",
            "    \"total_uso_motor\": 12\n",
            "  },\n",
            "  {\n",
            "    \"data\": \"2024-01-02\",\n",
            "    \"configuracao\": \"config1\",\n",
            "    \"serie\": \"serieB\",\n",
            "    \"total_uso_motor\": 18\n",
            "  },\n",
            "  {\n",
            "    \"data\": \"2024-01-02\",\n",
            "    \"configuracao\": \"config2\",\n",
            "    \"serie\": \"serieA\",\n",
            "    \"total_uso_motor\": 25\n",
            "  }\n",
            "  // ... mais dados para o mês de janeiro\n",
            "]\n",
            "```\n",
            "\n"
          ]
        }
      ],
      "source": [
        "input_query = 'para o chassi 020655, qual foi o uso do motor em cada configuração janeiro, por dia e por série? gere um gráfico'\n",
        "result = run_agent_loop(input_query, tools)\n",
        "print(\"Resposta: \", result)"
      ]
    },
    {
      "cell_type": "code",
      "execution_count": null,
      "metadata": {
        "id": "OzrWZdw0iFu-",
        "colab": {
          "base_uri": "https://localhost:8080/"
        },
        "outputId": "a4e9eeac-e99f-456b-8d54-c6cc73d4bc76"
      },
      "outputs": [
        {
          "output_type": "stream",
          "name": "stdout",
          "text": [
            "import pandas as pd\n",
            "import matplotlib.pyplot as plt\n",
            "\n",
            "data = {\n",
            "    'Data': ['2024-01-02', '2024-01-03', '2024-01-04', '2024-01-05', '2024-01-06', '2024-01-07', '2024-01-08', '2024-01-09', '2024-01-10', '2024-01-11', '2024-01-12'],\n",
            "    'Marcha Lenta': [1.76, 0.11, 0.82, 5.66, 3.35, 0.71, 6.72, 10.74, 12.27, 13.02, 3.41],\n",
            "    'Carga Alta': [9.53, 1.74, 4.03, 38.39, 22.39, 1.91, 45.77, 56.77, 88.14, 104.42, 43.75],\n",
            "    'Carga Baixa': [0.74, 0.16, 0.45, 2.18, 1.14, 0.07, 1.46, 1.85, 2.02, 3.63, 1.76],\n",
            "    'Chave-Ligada': [0.0, 0.0, 0.0, 0.0, 0.0, 0.0, 0.0, 0.0, 0.0, 0.0, 0.0],\n",
            "    'Carga Média': [6.39, 0.65, 5.68, 20.42, 11.78, 0.84, 26.68, 37.51, 16.12, 45.52, 28.80]\n",
            "}\n",
            "\n",
            "df = pd.DataFrame(data)\n",
            "df = df.set_index('Data')\n",
            "\n",
            "df.plot(kind='line', stacked=False)\n",
            "plt.xlabel('Data')\n",
            "plt.xticks(rotation=45)\n",
            "plt.ylabel('Tempo (horas)')\n",
            "plt.title('Uso do Motor 020655 em Janeiro')\n",
            "plt.show()\n"
          ]
        }
      ],
      "source": [
        "print(plot_chain.invoke(input='''data = {\n",
        "    'Data': ['2024-01-02', '2024-01-03', '2024-01-04', '2024-01-05', '2024-01-06', '2024-01-07', '2024-01-08', '2024-01-09', '2024-01-10', '2024-01-11', '2024-01-12'],\n",
        "    'Marcha Lenta': [1.76, 0.11, 0.82, 5.66, 3.35, 0.71, 6.72, 10.74, 12.27, 13.02, 3.41],\n",
        "    'Carga Alta': [9.53, 1.74, 4.03, 38.39, 22.39, 1.91, 45.77, 56.77, 88.14, 104.42, 43.75],\n",
        "    'Carga Baixa': [0.74, 0.16, 0.45, 2.18, 1.14, 0.07, 1.46, 1.85, 2.02, 3.63, 1.76],\n",
        "    'Chave-Ligada': [0.0, 0.0, 0.0, 0.0, 0.0, 0.0, 0.0, 0.0, 0.0, 0.0, 0.0],\n",
        "    'Carga Média': [6.39, 0.65, 5.68, 20.42, 11.78, 0.84, 26.68, 37.51, 16.12, 45.52, 28.80]\n",
        "}\n",
        "'''))"
      ]
    },
    {
      "cell_type": "code",
      "execution_count": null,
      "metadata": {
        "id": "CGZ1vatpcs_j"
      },
      "outputs": [],
      "source": [
        "#input_query='qual o cliente com mais uso improdutivo da maquina?'\n",
        "#chain.invoke({\"question\": \"para o chassi 020655, qual foi o uso do motor em configuração chave-ligada no dia 11/01/2024?\"})\n",
        "#chain.invoke({\"question\": \"quantos contratos o cliente 3 tem?\"})\n",
        "#chain.invoke({\"question\": \"quais e quantos modelos o cliente 3 tem?\"})\n",
        "#chain.invoke({\"question\": \"qual foi o Tempo em cada configuração do motor do chassi 020655 no dia 11/01/2024?\"})\n",
        "#chain.invoke({\"question\": \"qual foi o Tempo em cada configuração do motor do chassi 020655 no dia 11/01/2024?\"})\n",
        "#chain.invoke({\"question\": \"Qual modelo gastou mais comubustivel?\"})\n",
        "#chain.invoke({\"question\": \"Qual foi o uso total do motor por modelo?\"})\n",
        "#chain.invoke({\"question\": \"para o chassi 020655, qual foi o consumo de combustivel do motor em carga baixa no dia 11/01/2024?\"})\n",
        "#chain.invoke({\"question\": \"qual foi o cliente que mais consumiu combustivel em Janeiro?\"})\n",
        "#chain.invoke({\"question\": \"qual foi o uso do motor do chassi 020655 em fevereiro?\"})\n",
        "#chain.invoke({\"question\": \"por quanto tempo o motor do chassi 020655 ficou desligado no dia 11/01/2024?\"})"
      ]
    }
  ],
  "metadata": {
    "colab": {
      "provenance": [],
      "collapsed_sections": [
        "EUlo8PPjcyFM",
        "BgL6bMlynUoN",
        "vxWLk2j2oI3X",
        "8y8tJIXy_fD7"
      ]
    },
    "kernelspec": {
      "display_name": "Python 3",
      "name": "python3"
    },
    "language_info": {
      "name": "python"
    }
  },
  "nbformat": 4,
  "nbformat_minor": 0
}